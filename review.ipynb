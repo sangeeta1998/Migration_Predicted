{
 "cells": [
  {
   "cell_type": "code",
   "execution_count": 1,
   "metadata": {},
   "outputs": [],
   "source": [
    "import sklearn\n",
    "import pandas as pd\n"
   ]
  },
  {
   "cell_type": "code",
   "execution_count": 2,
   "metadata": {},
   "outputs": [],
   "source": [
    "df = pd.read_csv('x.csv')"
   ]
  },
  {
   "cell_type": "code",
   "execution_count": 3,
   "metadata": {},
   "outputs": [
    {
     "data": {
      "text/html": [
       "<div>\n",
       "<style scoped>\n",
       "    .dataframe tbody tr th:only-of-type {\n",
       "        vertical-align: middle;\n",
       "    }\n",
       "\n",
       "    .dataframe tbody tr th {\n",
       "        vertical-align: top;\n",
       "    }\n",
       "\n",
       "    .dataframe thead th {\n",
       "        text-align: right;\n",
       "    }\n",
       "</style>\n",
       "<table border=\"1\" class=\"dataframe\">\n",
       "  <thead>\n",
       "    <tr style=\"text-align: right;\">\n",
       "      <th></th>\n",
       "      <th>Unnamed: 0</th>\n",
       "      <th>userid</th>\n",
       "      <th>latitude</th>\n",
       "      <th>longitude</th>\n",
       "      <th>spotid</th>\n",
       "      <th>ts</th>\n",
       "      <th>date</th>\n",
       "      <th>time</th>\n",
       "      <th>weekday</th>\n",
       "      <th>day</th>\n",
       "      <th>hour</th>\n",
       "      <th>spotname_x</th>\n",
       "      <th>spotname_y</th>\n",
       "    </tr>\n",
       "  </thead>\n",
       "  <tbody>\n",
       "    <tr>\n",
       "      <th>0</th>\n",
       "      <td>0</td>\n",
       "      <td>0</td>\n",
       "      <td>40.643885</td>\n",
       "      <td>-73.782806</td>\n",
       "      <td>23261</td>\n",
       "      <td>2010-10-11 20:21:28-04:00</td>\n",
       "      <td>2010-10-11</td>\n",
       "      <td>20:21:28</td>\n",
       "      <td>0</td>\n",
       "      <td>11</td>\n",
       "      <td>20</td>\n",
       "      <td>JFK John F. Kennedy International</td>\n",
       "      <td>JFK John F. Kennedy International</td>\n",
       "    </tr>\n",
       "    <tr>\n",
       "      <th>1</th>\n",
       "      <td>1</td>\n",
       "      <td>0</td>\n",
       "      <td>40.643885</td>\n",
       "      <td>-73.782806</td>\n",
       "      <td>23261</td>\n",
       "      <td>2010-10-07 11:27:40-04:00</td>\n",
       "      <td>2010-10-07</td>\n",
       "      <td>11:27:40</td>\n",
       "      <td>3</td>\n",
       "      <td>7</td>\n",
       "      <td>11</td>\n",
       "      <td>JFK John F. Kennedy International</td>\n",
       "      <td>JFK John F. Kennedy International</td>\n",
       "    </tr>\n",
       "    <tr>\n",
       "      <th>2</th>\n",
       "      <td>2</td>\n",
       "      <td>5</td>\n",
       "      <td>40.643885</td>\n",
       "      <td>-73.782806</td>\n",
       "      <td>23261</td>\n",
       "      <td>2010-08-15 23:47:20-04:00</td>\n",
       "      <td>2010-08-15</td>\n",
       "      <td>23:47:20</td>\n",
       "      <td>6</td>\n",
       "      <td>15</td>\n",
       "      <td>23</td>\n",
       "      <td>JFK John F. Kennedy International</td>\n",
       "      <td>JFK John F. Kennedy International</td>\n",
       "    </tr>\n",
       "    <tr>\n",
       "      <th>3</th>\n",
       "      <td>3</td>\n",
       "      <td>8</td>\n",
       "      <td>40.643885</td>\n",
       "      <td>-73.782806</td>\n",
       "      <td>23261</td>\n",
       "      <td>2010-10-06 16:23:14-04:00</td>\n",
       "      <td>2010-10-06</td>\n",
       "      <td>16:23:14</td>\n",
       "      <td>2</td>\n",
       "      <td>6</td>\n",
       "      <td>16</td>\n",
       "      <td>JFK John F. Kennedy International</td>\n",
       "      <td>JFK John F. Kennedy International</td>\n",
       "    </tr>\n",
       "    <tr>\n",
       "      <th>4</th>\n",
       "      <td>4</td>\n",
       "      <td>15</td>\n",
       "      <td>40.643885</td>\n",
       "      <td>-73.782806</td>\n",
       "      <td>23261</td>\n",
       "      <td>2010-10-13 00:10:36-04:00</td>\n",
       "      <td>2010-10-13</td>\n",
       "      <td>00:10:36</td>\n",
       "      <td>2</td>\n",
       "      <td>13</td>\n",
       "      <td>0</td>\n",
       "      <td>JFK John F. Kennedy International</td>\n",
       "      <td>JFK John F. Kennedy International</td>\n",
       "    </tr>\n",
       "  </tbody>\n",
       "</table>\n",
       "</div>"
      ],
      "text/plain": [
       "   Unnamed: 0  userid   latitude  longitude  spotid  \\\n",
       "0           0       0  40.643885 -73.782806   23261   \n",
       "1           1       0  40.643885 -73.782806   23261   \n",
       "2           2       5  40.643885 -73.782806   23261   \n",
       "3           3       8  40.643885 -73.782806   23261   \n",
       "4           4      15  40.643885 -73.782806   23261   \n",
       "\n",
       "                          ts        date      time  weekday  day  hour  \\\n",
       "0  2010-10-11 20:21:28-04:00  2010-10-11  20:21:28        0   11    20   \n",
       "1  2010-10-07 11:27:40-04:00  2010-10-07  11:27:40        3    7    11   \n",
       "2  2010-08-15 23:47:20-04:00  2010-08-15  23:47:20        6   15    23   \n",
       "3  2010-10-06 16:23:14-04:00  2010-10-06  16:23:14        2    6    16   \n",
       "4  2010-10-13 00:10:36-04:00  2010-10-13  00:10:36        2   13     0   \n",
       "\n",
       "                          spotname_x                         spotname_y  \n",
       "0  JFK John F. Kennedy International  JFK John F. Kennedy International  \n",
       "1  JFK John F. Kennedy International  JFK John F. Kennedy International  \n",
       "2  JFK John F. Kennedy International  JFK John F. Kennedy International  \n",
       "3  JFK John F. Kennedy International  JFK John F. Kennedy International  \n",
       "4  JFK John F. Kennedy International  JFK John F. Kennedy International  "
      ]
     },
     "execution_count": 3,
     "metadata": {},
     "output_type": "execute_result"
    }
   ],
   "source": [
    "df.head()"
   ]
  },
  {
   "cell_type": "code",
   "execution_count": 4,
   "metadata": {},
   "outputs": [
    {
     "data": {
      "text/plain": [
       "112390"
      ]
     },
     "execution_count": 4,
     "metadata": {},
     "output_type": "execute_result"
    }
   ],
   "source": [
    "len(df['spotname_x'])"
   ]
  },
  {
   "cell_type": "code",
   "execution_count": 5,
   "metadata": {},
   "outputs": [
    {
     "data": {
      "text/html": [
       "<div>\n",
       "<style scoped>\n",
       "    .dataframe tbody tr th:only-of-type {\n",
       "        vertical-align: middle;\n",
       "    }\n",
       "\n",
       "    .dataframe tbody tr th {\n",
       "        vertical-align: top;\n",
       "    }\n",
       "\n",
       "    .dataframe thead th {\n",
       "        text-align: right;\n",
       "    }\n",
       "</style>\n",
       "<table border=\"1\" class=\"dataframe\">\n",
       "  <thead>\n",
       "    <tr style=\"text-align: right;\">\n",
       "      <th></th>\n",
       "      <th>userid</th>\n",
       "      <th>latitude</th>\n",
       "      <th>longitude</th>\n",
       "      <th>spotid</th>\n",
       "      <th>ts</th>\n",
       "      <th>date</th>\n",
       "      <th>time</th>\n",
       "      <th>weekday</th>\n",
       "      <th>day</th>\n",
       "      <th>hour</th>\n",
       "      <th>spotname_x</th>\n",
       "      <th>spotname_y</th>\n",
       "    </tr>\n",
       "  </thead>\n",
       "  <tbody>\n",
       "    <tr>\n",
       "      <th>0</th>\n",
       "      <td>0</td>\n",
       "      <td>40.643885</td>\n",
       "      <td>-73.782806</td>\n",
       "      <td>23261</td>\n",
       "      <td>2010-10-11 20:21:28-04:00</td>\n",
       "      <td>2010-10-11</td>\n",
       "      <td>20:21:28</td>\n",
       "      <td>0</td>\n",
       "      <td>11</td>\n",
       "      <td>20</td>\n",
       "      <td>JFK John F. Kennedy International</td>\n",
       "      <td>JFK John F. Kennedy International</td>\n",
       "    </tr>\n",
       "    <tr>\n",
       "      <th>1</th>\n",
       "      <td>0</td>\n",
       "      <td>40.643885</td>\n",
       "      <td>-73.782806</td>\n",
       "      <td>23261</td>\n",
       "      <td>2010-10-07 11:27:40-04:00</td>\n",
       "      <td>2010-10-07</td>\n",
       "      <td>11:27:40</td>\n",
       "      <td>3</td>\n",
       "      <td>7</td>\n",
       "      <td>11</td>\n",
       "      <td>JFK John F. Kennedy International</td>\n",
       "      <td>JFK John F. Kennedy International</td>\n",
       "    </tr>\n",
       "    <tr>\n",
       "      <th>2</th>\n",
       "      <td>5</td>\n",
       "      <td>40.643885</td>\n",
       "      <td>-73.782806</td>\n",
       "      <td>23261</td>\n",
       "      <td>2010-08-15 23:47:20-04:00</td>\n",
       "      <td>2010-08-15</td>\n",
       "      <td>23:47:20</td>\n",
       "      <td>6</td>\n",
       "      <td>15</td>\n",
       "      <td>23</td>\n",
       "      <td>JFK John F. Kennedy International</td>\n",
       "      <td>JFK John F. Kennedy International</td>\n",
       "    </tr>\n",
       "    <tr>\n",
       "      <th>3</th>\n",
       "      <td>8</td>\n",
       "      <td>40.643885</td>\n",
       "      <td>-73.782806</td>\n",
       "      <td>23261</td>\n",
       "      <td>2010-10-06 16:23:14-04:00</td>\n",
       "      <td>2010-10-06</td>\n",
       "      <td>16:23:14</td>\n",
       "      <td>2</td>\n",
       "      <td>6</td>\n",
       "      <td>16</td>\n",
       "      <td>JFK John F. Kennedy International</td>\n",
       "      <td>JFK John F. Kennedy International</td>\n",
       "    </tr>\n",
       "    <tr>\n",
       "      <th>4</th>\n",
       "      <td>15</td>\n",
       "      <td>40.643885</td>\n",
       "      <td>-73.782806</td>\n",
       "      <td>23261</td>\n",
       "      <td>2010-10-13 00:10:36-04:00</td>\n",
       "      <td>2010-10-13</td>\n",
       "      <td>00:10:36</td>\n",
       "      <td>2</td>\n",
       "      <td>13</td>\n",
       "      <td>0</td>\n",
       "      <td>JFK John F. Kennedy International</td>\n",
       "      <td>JFK John F. Kennedy International</td>\n",
       "    </tr>\n",
       "    <tr>\n",
       "      <th>...</th>\n",
       "      <td>...</td>\n",
       "      <td>...</td>\n",
       "      <td>...</td>\n",
       "      <td>...</td>\n",
       "      <td>...</td>\n",
       "      <td>...</td>\n",
       "      <td>...</td>\n",
       "      <td>...</td>\n",
       "      <td>...</td>\n",
       "      <td>...</td>\n",
       "      <td>...</td>\n",
       "      <td>...</td>\n",
       "    </tr>\n",
       "    <tr>\n",
       "      <th>112385</th>\n",
       "      <td>194967</td>\n",
       "      <td>40.823098</td>\n",
       "      <td>-74.219366</td>\n",
       "      <td>865373</td>\n",
       "      <td>2010-08-03 20:26:18-04:00</td>\n",
       "      <td>2010-08-03</td>\n",
       "      <td>20:26:18</td>\n",
       "      <td>1</td>\n",
       "      <td>3</td>\n",
       "      <td>20</td>\n",
       "      <td>Quik Check</td>\n",
       "      <td>Quik Check</td>\n",
       "    </tr>\n",
       "    <tr>\n",
       "      <th>112386</th>\n",
       "      <td>195787</td>\n",
       "      <td>40.737428</td>\n",
       "      <td>-74.004173</td>\n",
       "      <td>1042049</td>\n",
       "      <td>2010-05-18 22:52:14-04:00</td>\n",
       "      <td>2010-05-18</td>\n",
       "      <td>22:52:14</td>\n",
       "      <td>1</td>\n",
       "      <td>18</td>\n",
       "      <td>22</td>\n",
       "      <td>Coopy's Den</td>\n",
       "      <td>Coopy's Den</td>\n",
       "    </tr>\n",
       "    <tr>\n",
       "      <th>112387</th>\n",
       "      <td>195787</td>\n",
       "      <td>40.737428</td>\n",
       "      <td>-74.004173</td>\n",
       "      <td>1042049</td>\n",
       "      <td>2010-04-30 20:34:10-04:00</td>\n",
       "      <td>2010-04-30</td>\n",
       "      <td>20:34:10</td>\n",
       "      <td>4</td>\n",
       "      <td>30</td>\n",
       "      <td>20</td>\n",
       "      <td>Coopy's Den</td>\n",
       "      <td>Coopy's Den</td>\n",
       "    </tr>\n",
       "    <tr>\n",
       "      <th>112388</th>\n",
       "      <td>195789</td>\n",
       "      <td>40.726720</td>\n",
       "      <td>-73.986155</td>\n",
       "      <td>16965</td>\n",
       "      <td>2010-10-20 20:04:03-04:00</td>\n",
       "      <td>2010-10-20</td>\n",
       "      <td>20:04:03</td>\n",
       "      <td>2</td>\n",
       "      <td>20</td>\n",
       "      <td>20</td>\n",
       "      <td>Counter</td>\n",
       "      <td>Counter</td>\n",
       "    </tr>\n",
       "    <tr>\n",
       "      <th>112389</th>\n",
       "      <td>195791</td>\n",
       "      <td>40.716433</td>\n",
       "      <td>-74.005226</td>\n",
       "      <td>948876</td>\n",
       "      <td>2010-04-23 23:10:48-04:00</td>\n",
       "      <td>2010-04-23</td>\n",
       "      <td>23:10:48</td>\n",
       "      <td>4</td>\n",
       "      <td>23</td>\n",
       "      <td>23</td>\n",
       "      <td>PHA</td>\n",
       "      <td>PHA</td>\n",
       "    </tr>\n",
       "  </tbody>\n",
       "</table>\n",
       "<p>112390 rows × 12 columns</p>\n",
       "</div>"
      ],
      "text/plain": [
       "        userid   latitude  longitude   spotid                         ts  \\\n",
       "0            0  40.643885 -73.782806    23261  2010-10-11 20:21:28-04:00   \n",
       "1            0  40.643885 -73.782806    23261  2010-10-07 11:27:40-04:00   \n",
       "2            5  40.643885 -73.782806    23261  2010-08-15 23:47:20-04:00   \n",
       "3            8  40.643885 -73.782806    23261  2010-10-06 16:23:14-04:00   \n",
       "4           15  40.643885 -73.782806    23261  2010-10-13 00:10:36-04:00   \n",
       "...        ...        ...        ...      ...                        ...   \n",
       "112385  194967  40.823098 -74.219366   865373  2010-08-03 20:26:18-04:00   \n",
       "112386  195787  40.737428 -74.004173  1042049  2010-05-18 22:52:14-04:00   \n",
       "112387  195787  40.737428 -74.004173  1042049  2010-04-30 20:34:10-04:00   \n",
       "112388  195789  40.726720 -73.986155    16965  2010-10-20 20:04:03-04:00   \n",
       "112389  195791  40.716433 -74.005226   948876  2010-04-23 23:10:48-04:00   \n",
       "\n",
       "              date      time  weekday  day  hour  \\\n",
       "0       2010-10-11  20:21:28        0   11    20   \n",
       "1       2010-10-07  11:27:40        3    7    11   \n",
       "2       2010-08-15  23:47:20        6   15    23   \n",
       "3       2010-10-06  16:23:14        2    6    16   \n",
       "4       2010-10-13  00:10:36        2   13     0   \n",
       "...            ...       ...      ...  ...   ...   \n",
       "112385  2010-08-03  20:26:18        1    3    20   \n",
       "112386  2010-05-18  22:52:14        1   18    22   \n",
       "112387  2010-04-30  20:34:10        4   30    20   \n",
       "112388  2010-10-20  20:04:03        2   20    20   \n",
       "112389  2010-04-23  23:10:48        4   23    23   \n",
       "\n",
       "                               spotname_x                         spotname_y  \n",
       "0       JFK John F. Kennedy International  JFK John F. Kennedy International  \n",
       "1       JFK John F. Kennedy International  JFK John F. Kennedy International  \n",
       "2       JFK John F. Kennedy International  JFK John F. Kennedy International  \n",
       "3       JFK John F. Kennedy International  JFK John F. Kennedy International  \n",
       "4       JFK John F. Kennedy International  JFK John F. Kennedy International  \n",
       "...                                   ...                                ...  \n",
       "112385                         Quik Check                         Quik Check  \n",
       "112386                        Coopy's Den                        Coopy's Den  \n",
       "112387                        Coopy's Den                        Coopy's Den  \n",
       "112388                            Counter                            Counter  \n",
       "112389                                PHA                                PHA  \n",
       "\n",
       "[112390 rows x 12 columns]"
      ]
     },
     "execution_count": 5,
     "metadata": {},
     "output_type": "execute_result"
    }
   ],
   "source": [
    "df.drop('Unnamed: 0',axis=1)"
   ]
  },
  {
   "cell_type": "code",
   "execution_count": 6,
   "metadata": {},
   "outputs": [],
   "source": [
    "new_df = df[['latitude','longitude']]\n",
    "df1 = df[['spotid']]"
   ]
  },
  {
   "cell_type": "code",
   "execution_count": 7,
   "metadata": {},
   "outputs": [
    {
     "data": {
      "text/html": [
       "<div>\n",
       "<style scoped>\n",
       "    .dataframe tbody tr th:only-of-type {\n",
       "        vertical-align: middle;\n",
       "    }\n",
       "\n",
       "    .dataframe tbody tr th {\n",
       "        vertical-align: top;\n",
       "    }\n",
       "\n",
       "    .dataframe thead th {\n",
       "        text-align: right;\n",
       "    }\n",
       "</style>\n",
       "<table border=\"1\" class=\"dataframe\">\n",
       "  <thead>\n",
       "    <tr style=\"text-align: right;\">\n",
       "      <th></th>\n",
       "      <th>latitude</th>\n",
       "      <th>longitude</th>\n",
       "    </tr>\n",
       "  </thead>\n",
       "  <tbody>\n",
       "    <tr>\n",
       "      <th>0</th>\n",
       "      <td>40.643885</td>\n",
       "      <td>-73.782806</td>\n",
       "    </tr>\n",
       "    <tr>\n",
       "      <th>1</th>\n",
       "      <td>40.643885</td>\n",
       "      <td>-73.782806</td>\n",
       "    </tr>\n",
       "    <tr>\n",
       "      <th>2</th>\n",
       "      <td>40.643885</td>\n",
       "      <td>-73.782806</td>\n",
       "    </tr>\n",
       "    <tr>\n",
       "      <th>3</th>\n",
       "      <td>40.643885</td>\n",
       "      <td>-73.782806</td>\n",
       "    </tr>\n",
       "    <tr>\n",
       "      <th>4</th>\n",
       "      <td>40.643885</td>\n",
       "      <td>-73.782806</td>\n",
       "    </tr>\n",
       "  </tbody>\n",
       "</table>\n",
       "</div>"
      ],
      "text/plain": [
       "    latitude  longitude\n",
       "0  40.643885 -73.782806\n",
       "1  40.643885 -73.782806\n",
       "2  40.643885 -73.782806\n",
       "3  40.643885 -73.782806\n",
       "4  40.643885 -73.782806"
      ]
     },
     "execution_count": 7,
     "metadata": {},
     "output_type": "execute_result"
    }
   ],
   "source": [
    "new_df.head()"
   ]
  },
  {
   "cell_type": "code",
   "execution_count": 8,
   "metadata": {},
   "outputs": [],
   "source": [
    "from sklearn.model_selection import train_test_split\n",
    "\n",
    "trainx, testx,trainy, testy = train_test_split(df1,new_df, test_size=0.1, random_state=42)\n",
    "\n"
   ]
  },
  {
   "cell_type": "code",
   "execution_count": 9,
   "metadata": {},
   "outputs": [
    {
     "data": {
      "text/plain": [
       "0.000622144068825381"
      ]
     },
     "execution_count": 9,
     "metadata": {},
     "output_type": "execute_result"
    }
   ],
   "source": [
    "from sklearn.linear_model import LinearRegression\n",
    "llr = LinearRegression()\n",
    "llr.fit(trainx, trainy)\n",
    "llr.score(testx,testy)"
   ]
  },
  {
   "cell_type": "code",
   "execution_count": 22,
   "metadata": {},
   "outputs": [
    {
     "data": {
      "text/html": [
       "<style>#sk-container-id-2 {color: black;background-color: white;}#sk-container-id-2 pre{padding: 0;}#sk-container-id-2 div.sk-toggleable {background-color: white;}#sk-container-id-2 label.sk-toggleable__label {cursor: pointer;display: block;width: 100%;margin-bottom: 0;padding: 0.3em;box-sizing: border-box;text-align: center;}#sk-container-id-2 label.sk-toggleable__label-arrow:before {content: \"▸\";float: left;margin-right: 0.25em;color: #696969;}#sk-container-id-2 label.sk-toggleable__label-arrow:hover:before {color: black;}#sk-container-id-2 div.sk-estimator:hover label.sk-toggleable__label-arrow:before {color: black;}#sk-container-id-2 div.sk-toggleable__content {max-height: 0;max-width: 0;overflow: hidden;text-align: left;background-color: #f0f8ff;}#sk-container-id-2 div.sk-toggleable__content pre {margin: 0.2em;color: black;border-radius: 0.25em;background-color: #f0f8ff;}#sk-container-id-2 input.sk-toggleable__control:checked~div.sk-toggleable__content {max-height: 200px;max-width: 100%;overflow: auto;}#sk-container-id-2 input.sk-toggleable__control:checked~label.sk-toggleable__label-arrow:before {content: \"▾\";}#sk-container-id-2 div.sk-estimator input.sk-toggleable__control:checked~label.sk-toggleable__label {background-color: #d4ebff;}#sk-container-id-2 div.sk-label input.sk-toggleable__control:checked~label.sk-toggleable__label {background-color: #d4ebff;}#sk-container-id-2 input.sk-hidden--visually {border: 0;clip: rect(1px 1px 1px 1px);clip: rect(1px, 1px, 1px, 1px);height: 1px;margin: -1px;overflow: hidden;padding: 0;position: absolute;width: 1px;}#sk-container-id-2 div.sk-estimator {font-family: monospace;background-color: #f0f8ff;border: 1px dotted black;border-radius: 0.25em;box-sizing: border-box;margin-bottom: 0.5em;}#sk-container-id-2 div.sk-estimator:hover {background-color: #d4ebff;}#sk-container-id-2 div.sk-parallel-item::after {content: \"\";width: 100%;border-bottom: 1px solid gray;flex-grow: 1;}#sk-container-id-2 div.sk-label:hover label.sk-toggleable__label {background-color: #d4ebff;}#sk-container-id-2 div.sk-serial::before {content: \"\";position: absolute;border-left: 1px solid gray;box-sizing: border-box;top: 0;bottom: 0;left: 50%;z-index: 0;}#sk-container-id-2 div.sk-serial {display: flex;flex-direction: column;align-items: center;background-color: white;padding-right: 0.2em;padding-left: 0.2em;position: relative;}#sk-container-id-2 div.sk-item {position: relative;z-index: 1;}#sk-container-id-2 div.sk-parallel {display: flex;align-items: stretch;justify-content: center;background-color: white;position: relative;}#sk-container-id-2 div.sk-item::before, #sk-container-id-2 div.sk-parallel-item::before {content: \"\";position: absolute;border-left: 1px solid gray;box-sizing: border-box;top: 0;bottom: 0;left: 50%;z-index: -1;}#sk-container-id-2 div.sk-parallel-item {display: flex;flex-direction: column;z-index: 1;position: relative;background-color: white;}#sk-container-id-2 div.sk-parallel-item:first-child::after {align-self: flex-end;width: 50%;}#sk-container-id-2 div.sk-parallel-item:last-child::after {align-self: flex-start;width: 50%;}#sk-container-id-2 div.sk-parallel-item:only-child::after {width: 0;}#sk-container-id-2 div.sk-dashed-wrapped {border: 1px dashed gray;margin: 0 0.4em 0.5em 0.4em;box-sizing: border-box;padding-bottom: 0.4em;background-color: white;}#sk-container-id-2 div.sk-label label {font-family: monospace;font-weight: bold;display: inline-block;line-height: 1.2em;}#sk-container-id-2 div.sk-label-container {text-align: center;}#sk-container-id-2 div.sk-container {/* jupyter's `normalize.less` sets `[hidden] { display: none; }` but bootstrap.min.css set `[hidden] { display: none !important; }` so we also need the `!important` here to be able to override the default hidden behavior on the sphinx rendered scikit-learn.org. See: https://github.com/scikit-learn/scikit-learn/issues/21755 */display: inline-block !important;position: relative;}#sk-container-id-2 div.sk-text-repr-fallback {display: none;}</style><div id=\"sk-container-id-2\" class=\"sk-top-container\"><div class=\"sk-text-repr-fallback\"><pre>DecisionTreeRegressor()</pre><b>In a Jupyter environment, please rerun this cell to show the HTML representation or trust the notebook. <br />On GitHub, the HTML representation is unable to render, please try loading this page with nbviewer.org.</b></div><div class=\"sk-container\" hidden><div class=\"sk-item\"><div class=\"sk-estimator sk-toggleable\"><input class=\"sk-toggleable__control sk-hidden--visually\" id=\"sk-estimator-id-2\" type=\"checkbox\" checked><label for=\"sk-estimator-id-2\" class=\"sk-toggleable__label sk-toggleable__label-arrow\">DecisionTreeRegressor</label><div class=\"sk-toggleable__content\"><pre>DecisionTreeRegressor()</pre></div></div></div></div></div>"
      ],
      "text/plain": [
       "DecisionTreeRegressor()"
      ]
     },
     "execution_count": 22,
     "metadata": {},
     "output_type": "execute_result"
    }
   ],
   "source": [
    "from sklearn.tree import DecisionTreeRegressor\n",
    "lr = DecisionTreeRegressor()\n",
    "lr.fit(trainx,trainy)"
   ]
  },
  {
   "cell_type": "code",
   "execution_count": 23,
   "metadata": {},
   "outputs": [
    {
     "data": {
      "text/plain": [
       "0.8688176007533326"
      ]
     },
     "execution_count": 23,
     "metadata": {},
     "output_type": "execute_result"
    }
   ],
   "source": [
    "lr.score(testx,testy)"
   ]
  },
  {
   "cell_type": "code",
   "execution_count": 26,
   "metadata": {},
   "outputs": [
    {
     "name": "stderr",
     "output_type": "stream",
     "text": [
      "c:\\Users\\User\\AppData\\Local\\Programs\\Python\\Python310\\lib\\site-packages\\sklearn\\base.py:450: UserWarning: X does not have valid feature names, but DecisionTreeRegressor was fitted with feature names\n",
      "  warnings.warn(\n"
     ]
    },
    {
     "data": {
      "text/plain": [
       "array([[ 40.64388454, -73.7828064 ]])"
      ]
     },
     "execution_count": 26,
     "metadata": {},
     "output_type": "execute_result"
    }
   ],
   "source": [
    "lr.predict([[23261]])"
   ]
  },
  {
   "cell_type": "code",
   "execution_count": 26,
   "metadata": {},
   "outputs": [
    {
     "data": {
      "text/html": [
       "<style>#sk-container-id-1 {color: black;background-color: white;}#sk-container-id-1 pre{padding: 0;}#sk-container-id-1 div.sk-toggleable {background-color: white;}#sk-container-id-1 label.sk-toggleable__label {cursor: pointer;display: block;width: 100%;margin-bottom: 0;padding: 0.3em;box-sizing: border-box;text-align: center;}#sk-container-id-1 label.sk-toggleable__label-arrow:before {content: \"▸\";float: left;margin-right: 0.25em;color: #696969;}#sk-container-id-1 label.sk-toggleable__label-arrow:hover:before {color: black;}#sk-container-id-1 div.sk-estimator:hover label.sk-toggleable__label-arrow:before {color: black;}#sk-container-id-1 div.sk-toggleable__content {max-height: 0;max-width: 0;overflow: hidden;text-align: left;background-color: #f0f8ff;}#sk-container-id-1 div.sk-toggleable__content pre {margin: 0.2em;color: black;border-radius: 0.25em;background-color: #f0f8ff;}#sk-container-id-1 input.sk-toggleable__control:checked~div.sk-toggleable__content {max-height: 200px;max-width: 100%;overflow: auto;}#sk-container-id-1 input.sk-toggleable__control:checked~label.sk-toggleable__label-arrow:before {content: \"▾\";}#sk-container-id-1 div.sk-estimator input.sk-toggleable__control:checked~label.sk-toggleable__label {background-color: #d4ebff;}#sk-container-id-1 div.sk-label input.sk-toggleable__control:checked~label.sk-toggleable__label {background-color: #d4ebff;}#sk-container-id-1 input.sk-hidden--visually {border: 0;clip: rect(1px 1px 1px 1px);clip: rect(1px, 1px, 1px, 1px);height: 1px;margin: -1px;overflow: hidden;padding: 0;position: absolute;width: 1px;}#sk-container-id-1 div.sk-estimator {font-family: monospace;background-color: #f0f8ff;border: 1px dotted black;border-radius: 0.25em;box-sizing: border-box;margin-bottom: 0.5em;}#sk-container-id-1 div.sk-estimator:hover {background-color: #d4ebff;}#sk-container-id-1 div.sk-parallel-item::after {content: \"\";width: 100%;border-bottom: 1px solid gray;flex-grow: 1;}#sk-container-id-1 div.sk-label:hover label.sk-toggleable__label {background-color: #d4ebff;}#sk-container-id-1 div.sk-serial::before {content: \"\";position: absolute;border-left: 1px solid gray;box-sizing: border-box;top: 0;bottom: 0;left: 50%;z-index: 0;}#sk-container-id-1 div.sk-serial {display: flex;flex-direction: column;align-items: center;background-color: white;padding-right: 0.2em;padding-left: 0.2em;position: relative;}#sk-container-id-1 div.sk-item {position: relative;z-index: 1;}#sk-container-id-1 div.sk-parallel {display: flex;align-items: stretch;justify-content: center;background-color: white;position: relative;}#sk-container-id-1 div.sk-item::before, #sk-container-id-1 div.sk-parallel-item::before {content: \"\";position: absolute;border-left: 1px solid gray;box-sizing: border-box;top: 0;bottom: 0;left: 50%;z-index: -1;}#sk-container-id-1 div.sk-parallel-item {display: flex;flex-direction: column;z-index: 1;position: relative;background-color: white;}#sk-container-id-1 div.sk-parallel-item:first-child::after {align-self: flex-end;width: 50%;}#sk-container-id-1 div.sk-parallel-item:last-child::after {align-self: flex-start;width: 50%;}#sk-container-id-1 div.sk-parallel-item:only-child::after {width: 0;}#sk-container-id-1 div.sk-dashed-wrapped {border: 1px dashed gray;margin: 0 0.4em 0.5em 0.4em;box-sizing: border-box;padding-bottom: 0.4em;background-color: white;}#sk-container-id-1 div.sk-label label {font-family: monospace;font-weight: bold;display: inline-block;line-height: 1.2em;}#sk-container-id-1 div.sk-label-container {text-align: center;}#sk-container-id-1 div.sk-container {/* jupyter's `normalize.less` sets `[hidden] { display: none; }` but bootstrap.min.css set `[hidden] { display: none !important; }` so we also need the `!important` here to be able to override the default hidden behavior on the sphinx rendered scikit-learn.org. See: https://github.com/scikit-learn/scikit-learn/issues/21755 */display: inline-block !important;position: relative;}#sk-container-id-1 div.sk-text-repr-fallback {display: none;}</style><div id=\"sk-container-id-1\" class=\"sk-top-container\"><div class=\"sk-text-repr-fallback\"><pre>RandomForestRegressor()</pre><b>In a Jupyter environment, please rerun this cell to show the HTML representation or trust the notebook. <br />On GitHub, the HTML representation is unable to render, please try loading this page with nbviewer.org.</b></div><div class=\"sk-container\" hidden><div class=\"sk-item\"><div class=\"sk-estimator sk-toggleable\"><input class=\"sk-toggleable__control sk-hidden--visually\" id=\"sk-estimator-id-1\" type=\"checkbox\" checked><label for=\"sk-estimator-id-1\" class=\"sk-toggleable__label sk-toggleable__label-arrow\">RandomForestRegressor</label><div class=\"sk-toggleable__content\"><pre>RandomForestRegressor()</pre></div></div></div></div></div>"
      ],
      "text/plain": [
       "RandomForestRegressor()"
      ]
     },
     "execution_count": 26,
     "metadata": {},
     "output_type": "execute_result"
    }
   ],
   "source": [
    "from sklearn.ensemble import RandomForestRegressor\n",
    "kr = RandomForestRegressor()\n",
    "kr.fit(trainx,trainy)\n"
   ]
  },
  {
   "cell_type": "code",
   "execution_count": 28,
   "metadata": {},
   "outputs": [
    {
     "name": "stdout",
     "output_type": "stream",
     "text": [
      "0.9257076497704073\n"
     ]
    }
   ],
   "source": [
    "print(kr.score(testx,testy))"
   ]
  },
  {
   "cell_type": "code",
   "execution_count": 16,
   "metadata": {},
   "outputs": [
    {
     "data": {
      "text/plain": [
       "0.7873422479344422"
      ]
     },
     "execution_count": 16,
     "metadata": {},
     "output_type": "execute_result"
    }
   ],
   "source": [
    "from sklearn.neighbors import KNeighborsRegressor\n",
    "kr = KNeighborsRegressor()\n",
    "kr.fit(trainx,trainy)\n",
    "kr.score(testx,testy)"
   ]
  },
  {
   "cell_type": "code",
   "execution_count": 13,
   "metadata": {},
   "outputs": [],
   "source": [
    "from sklearn import preprocessing\n",
    "label_encoder = preprocessing.LabelEncoder()\n",
    "df['spotname_x']= label_encoder.fit_transform(df['spotname_x'])"
   ]
  },
  {
   "cell_type": "code",
   "execution_count": 11,
   "metadata": {},
   "outputs": [
    {
     "data": {
      "text/plain": [
       "14459"
      ]
     },
     "execution_count": 11,
     "metadata": {},
     "output_type": "execute_result"
    }
   ],
   "source": [
    "len(df.spotname_x.unique())"
   ]
  },
  {
   "cell_type": "code",
   "execution_count": 14,
   "metadata": {},
   "outputs": [
    {
     "data": {
      "text/html": [
       "<div>\n",
       "<style scoped>\n",
       "    .dataframe tbody tr th:only-of-type {\n",
       "        vertical-align: middle;\n",
       "    }\n",
       "\n",
       "    .dataframe tbody tr th {\n",
       "        vertical-align: top;\n",
       "    }\n",
       "\n",
       "    .dataframe thead th {\n",
       "        text-align: right;\n",
       "    }\n",
       "</style>\n",
       "<table border=\"1\" class=\"dataframe\">\n",
       "  <thead>\n",
       "    <tr style=\"text-align: right;\">\n",
       "      <th></th>\n",
       "      <th>Unnamed: 0</th>\n",
       "      <th>userid</th>\n",
       "      <th>latitude</th>\n",
       "      <th>longitude</th>\n",
       "      <th>spotid</th>\n",
       "      <th>ts</th>\n",
       "      <th>date</th>\n",
       "      <th>time</th>\n",
       "      <th>weekday</th>\n",
       "      <th>day</th>\n",
       "      <th>hour</th>\n",
       "      <th>spotname_x</th>\n",
       "      <th>spotname_y</th>\n",
       "    </tr>\n",
       "  </thead>\n",
       "  <tbody>\n",
       "    <tr>\n",
       "      <th>0</th>\n",
       "      <td>0</td>\n",
       "      <td>0</td>\n",
       "      <td>40.643885</td>\n",
       "      <td>-73.782806</td>\n",
       "      <td>23261</td>\n",
       "      <td>2010-10-11 20:21:28-04:00</td>\n",
       "      <td>2010-10-11</td>\n",
       "      <td>20:21:28</td>\n",
       "      <td>0</td>\n",
       "      <td>11</td>\n",
       "      <td>20</td>\n",
       "      <td>6301</td>\n",
       "      <td>JFK John F. Kennedy International</td>\n",
       "    </tr>\n",
       "    <tr>\n",
       "      <th>1</th>\n",
       "      <td>1</td>\n",
       "      <td>0</td>\n",
       "      <td>40.643885</td>\n",
       "      <td>-73.782806</td>\n",
       "      <td>23261</td>\n",
       "      <td>2010-10-07 11:27:40-04:00</td>\n",
       "      <td>2010-10-07</td>\n",
       "      <td>11:27:40</td>\n",
       "      <td>3</td>\n",
       "      <td>7</td>\n",
       "      <td>11</td>\n",
       "      <td>6301</td>\n",
       "      <td>JFK John F. Kennedy International</td>\n",
       "    </tr>\n",
       "    <tr>\n",
       "      <th>2</th>\n",
       "      <td>2</td>\n",
       "      <td>5</td>\n",
       "      <td>40.643885</td>\n",
       "      <td>-73.782806</td>\n",
       "      <td>23261</td>\n",
       "      <td>2010-08-15 23:47:20-04:00</td>\n",
       "      <td>2010-08-15</td>\n",
       "      <td>23:47:20</td>\n",
       "      <td>6</td>\n",
       "      <td>15</td>\n",
       "      <td>23</td>\n",
       "      <td>6301</td>\n",
       "      <td>JFK John F. Kennedy International</td>\n",
       "    </tr>\n",
       "    <tr>\n",
       "      <th>3</th>\n",
       "      <td>3</td>\n",
       "      <td>8</td>\n",
       "      <td>40.643885</td>\n",
       "      <td>-73.782806</td>\n",
       "      <td>23261</td>\n",
       "      <td>2010-10-06 16:23:14-04:00</td>\n",
       "      <td>2010-10-06</td>\n",
       "      <td>16:23:14</td>\n",
       "      <td>2</td>\n",
       "      <td>6</td>\n",
       "      <td>16</td>\n",
       "      <td>6301</td>\n",
       "      <td>JFK John F. Kennedy International</td>\n",
       "    </tr>\n",
       "    <tr>\n",
       "      <th>4</th>\n",
       "      <td>4</td>\n",
       "      <td>15</td>\n",
       "      <td>40.643885</td>\n",
       "      <td>-73.782806</td>\n",
       "      <td>23261</td>\n",
       "      <td>2010-10-13 00:10:36-04:00</td>\n",
       "      <td>2010-10-13</td>\n",
       "      <td>00:10:36</td>\n",
       "      <td>2</td>\n",
       "      <td>13</td>\n",
       "      <td>0</td>\n",
       "      <td>6301</td>\n",
       "      <td>JFK John F. Kennedy International</td>\n",
       "    </tr>\n",
       "    <tr>\n",
       "      <th>...</th>\n",
       "      <td>...</td>\n",
       "      <td>...</td>\n",
       "      <td>...</td>\n",
       "      <td>...</td>\n",
       "      <td>...</td>\n",
       "      <td>...</td>\n",
       "      <td>...</td>\n",
       "      <td>...</td>\n",
       "      <td>...</td>\n",
       "      <td>...</td>\n",
       "      <td>...</td>\n",
       "      <td>...</td>\n",
       "      <td>...</td>\n",
       "    </tr>\n",
       "    <tr>\n",
       "      <th>112385</th>\n",
       "      <td>112385</td>\n",
       "      <td>194967</td>\n",
       "      <td>40.823098</td>\n",
       "      <td>-74.219366</td>\n",
       "      <td>865373</td>\n",
       "      <td>2010-08-03 20:26:18-04:00</td>\n",
       "      <td>2010-08-03</td>\n",
       "      <td>20:26:18</td>\n",
       "      <td>1</td>\n",
       "      <td>3</td>\n",
       "      <td>20</td>\n",
       "      <td>10296</td>\n",
       "      <td>Quik Check</td>\n",
       "    </tr>\n",
       "    <tr>\n",
       "      <th>112386</th>\n",
       "      <td>112386</td>\n",
       "      <td>195787</td>\n",
       "      <td>40.737428</td>\n",
       "      <td>-74.004173</td>\n",
       "      <td>1042049</td>\n",
       "      <td>2010-05-18 22:52:14-04:00</td>\n",
       "      <td>2010-05-18</td>\n",
       "      <td>22:52:14</td>\n",
       "      <td>1</td>\n",
       "      <td>18</td>\n",
       "      <td>22</td>\n",
       "      <td>3418</td>\n",
       "      <td>Coopy's Den</td>\n",
       "    </tr>\n",
       "    <tr>\n",
       "      <th>112387</th>\n",
       "      <td>112387</td>\n",
       "      <td>195787</td>\n",
       "      <td>40.737428</td>\n",
       "      <td>-74.004173</td>\n",
       "      <td>1042049</td>\n",
       "      <td>2010-04-30 20:34:10-04:00</td>\n",
       "      <td>2010-04-30</td>\n",
       "      <td>20:34:10</td>\n",
       "      <td>4</td>\n",
       "      <td>30</td>\n",
       "      <td>20</td>\n",
       "      <td>3418</td>\n",
       "      <td>Coopy's Den</td>\n",
       "    </tr>\n",
       "    <tr>\n",
       "      <th>112388</th>\n",
       "      <td>112388</td>\n",
       "      <td>195789</td>\n",
       "      <td>40.726720</td>\n",
       "      <td>-73.986155</td>\n",
       "      <td>16965</td>\n",
       "      <td>2010-10-20 20:04:03-04:00</td>\n",
       "      <td>2010-10-20</td>\n",
       "      <td>20:04:03</td>\n",
       "      <td>2</td>\n",
       "      <td>20</td>\n",
       "      <td>20</td>\n",
       "      <td>3473</td>\n",
       "      <td>Counter</td>\n",
       "    </tr>\n",
       "    <tr>\n",
       "      <th>112389</th>\n",
       "      <td>112389</td>\n",
       "      <td>195791</td>\n",
       "      <td>40.716433</td>\n",
       "      <td>-74.005226</td>\n",
       "      <td>948876</td>\n",
       "      <td>2010-04-23 23:10:48-04:00</td>\n",
       "      <td>2010-04-23</td>\n",
       "      <td>23:10:48</td>\n",
       "      <td>4</td>\n",
       "      <td>23</td>\n",
       "      <td>23</td>\n",
       "      <td>9406</td>\n",
       "      <td>PHA</td>\n",
       "    </tr>\n",
       "  </tbody>\n",
       "</table>\n",
       "<p>112390 rows × 13 columns</p>\n",
       "</div>"
      ],
      "text/plain": [
       "        Unnamed: 0  userid   latitude  longitude   spotid  \\\n",
       "0                0       0  40.643885 -73.782806    23261   \n",
       "1                1       0  40.643885 -73.782806    23261   \n",
       "2                2       5  40.643885 -73.782806    23261   \n",
       "3                3       8  40.643885 -73.782806    23261   \n",
       "4                4      15  40.643885 -73.782806    23261   \n",
       "...            ...     ...        ...        ...      ...   \n",
       "112385      112385  194967  40.823098 -74.219366   865373   \n",
       "112386      112386  195787  40.737428 -74.004173  1042049   \n",
       "112387      112387  195787  40.737428 -74.004173  1042049   \n",
       "112388      112388  195789  40.726720 -73.986155    16965   \n",
       "112389      112389  195791  40.716433 -74.005226   948876   \n",
       "\n",
       "                               ts        date      time  weekday  day  hour  \\\n",
       "0       2010-10-11 20:21:28-04:00  2010-10-11  20:21:28        0   11    20   \n",
       "1       2010-10-07 11:27:40-04:00  2010-10-07  11:27:40        3    7    11   \n",
       "2       2010-08-15 23:47:20-04:00  2010-08-15  23:47:20        6   15    23   \n",
       "3       2010-10-06 16:23:14-04:00  2010-10-06  16:23:14        2    6    16   \n",
       "4       2010-10-13 00:10:36-04:00  2010-10-13  00:10:36        2   13     0   \n",
       "...                           ...         ...       ...      ...  ...   ...   \n",
       "112385  2010-08-03 20:26:18-04:00  2010-08-03  20:26:18        1    3    20   \n",
       "112386  2010-05-18 22:52:14-04:00  2010-05-18  22:52:14        1   18    22   \n",
       "112387  2010-04-30 20:34:10-04:00  2010-04-30  20:34:10        4   30    20   \n",
       "112388  2010-10-20 20:04:03-04:00  2010-10-20  20:04:03        2   20    20   \n",
       "112389  2010-04-23 23:10:48-04:00  2010-04-23  23:10:48        4   23    23   \n",
       "\n",
       "        spotname_x                         spotname_y  \n",
       "0             6301  JFK John F. Kennedy International  \n",
       "1             6301  JFK John F. Kennedy International  \n",
       "2             6301  JFK John F. Kennedy International  \n",
       "3             6301  JFK John F. Kennedy International  \n",
       "4             6301  JFK John F. Kennedy International  \n",
       "...            ...                                ...  \n",
       "112385       10296                         Quik Check  \n",
       "112386        3418                        Coopy's Den  \n",
       "112387        3418                        Coopy's Den  \n",
       "112388        3473                            Counter  \n",
       "112389        9406                                PHA  \n",
       "\n",
       "[112390 rows x 13 columns]"
      ]
     },
     "execution_count": 14,
     "metadata": {},
     "output_type": "execute_result"
    }
   ],
   "source": [
    "df"
   ]
  },
  {
   "cell_type": "code",
   "execution_count": 15,
   "metadata": {},
   "outputs": [],
   "source": [
    "df2 = df[['latitude','longitude']]\n",
    "df3 = df1 = df[['spotid','spotname_x']]"
   ]
  },
  {
   "cell_type": "code",
   "execution_count": 19,
   "metadata": {},
   "outputs": [],
   "source": [
    "from sklearn.model_selection import train_test_split\n",
    "\n",
    "xtrain, xtest,ytrain, ytest = train_test_split(df1,new_df, test_size=0.1, random_state=42)\n"
   ]
  },
  {
   "cell_type": "code",
   "execution_count": 20,
   "metadata": {},
   "outputs": [
    {
     "data": {
      "text/plain": [
       "0.0007809125592140864"
      ]
     },
     "execution_count": 20,
     "metadata": {},
     "output_type": "execute_result"
    }
   ],
   "source": [
    "from sklearn.linear_model import LinearRegression\n",
    "llr = LinearRegression()\n",
    "llr.fit(xtrain, ytrain)\n",
    "llr.score(xtest,ytest)"
   ]
  },
  {
   "cell_type": "code",
   "execution_count": 21,
   "metadata": {},
   "outputs": [
    {
     "data": {
      "text/plain": [
       "0.8673967564173395"
      ]
     },
     "execution_count": 21,
     "metadata": {},
     "output_type": "execute_result"
    }
   ],
   "source": [
    "from sklearn.tree import DecisionTreeRegressor\n",
    "lr = DecisionTreeRegressor()\n",
    "lr.fit(xtrain,ytrain)\n",
    "lr.score(xtest,ytest)"
   ]
  },
  {
   "cell_type": "code",
   "execution_count": 22,
   "metadata": {},
   "outputs": [
    {
     "data": {
      "text/plain": [
       "0.9054942246453395"
      ]
     },
     "execution_count": 22,
     "metadata": {},
     "output_type": "execute_result"
    }
   ],
   "source": [
    "from sklearn.ensemble import RandomForestRegressor\n",
    "kr = RandomForestRegressor()\n",
    "kr.fit(xtrain,ytrain)\n",
    "kr.score(xtest,ytest)"
   ]
  },
  {
   "cell_type": "code",
   "execution_count": 23,
   "metadata": {},
   "outputs": [
    {
     "data": {
      "text/plain": [
       "0.7717608420535554"
      ]
     },
     "execution_count": 23,
     "metadata": {},
     "output_type": "execute_result"
    }
   ],
   "source": [
    "from sklearn.neighbors import KNeighborsRegressor\n",
    "kr = KNeighborsRegressor()\n",
    "kr.fit(xtrain,ytrain)\n",
    "kr.score(xtest,ytest)"
   ]
  },
  {
   "cell_type": "code",
   "execution_count": 24,
   "metadata": {},
   "outputs": [
    {
     "data": {
      "text/plain": [
       "<matplotlib.collections.PathCollection at 0x14bc338ab30>"
      ]
     },
     "execution_count": 24,
     "metadata": {},
     "output_type": "execute_result"
    },
    {
     "data": {
      "image/png": "[encoded data removed]",
      "text/plain": [
       "<Figure size 432x288 with 1 Axes>"
      ]
     },
     "metadata": {
      "needs_background": "light"
     },
     "output_type": "display_data"
    }
   ],
   "source": [
    "import matplotlib.pyplot as plt\n",
    "plt.scatter(df.latitude, df.longitude)"
   ]
  },
  {
   "cell_type": "code",
   "execution_count": 25,
   "metadata": {},
   "outputs": [
    {
     "ename": "AttributeError",
     "evalue": "'KNeighborsRegressor' object has no attribute 'summary'",
     "output_type": "error",
     "traceback": [
      "\u001b[1;31m---------------------------------------------------------------------------\u001b[0m",
      "\u001b[1;31mAttributeError\u001b[0m                            Traceback (most recent call last)",
      "\u001b[1;32mc:\\freelancer\\geolocation\\review.ipynb Cell 25'\u001b[0m in \u001b[0;36m<cell line: 1>\u001b[1;34m()\u001b[0m\n\u001b[1;32m----> <a href='vscode-notebook-cell:/c%3A/freelancer/geolocation/review.ipynb#ch0000024?line=0'>1</a>\u001b[0m kr\u001b[39m.\u001b[39;49msummary()\n",
      "\u001b[1;31mAttributeError\u001b[0m: 'KNeighborsRegressor' object has no attribute 'summary'"
     ]
    }
   ],
   "source": []
  },
  {
   "cell_type": "code",
   "execution_count": null,
   "metadata": {},
   "outputs": [],
   "source": []
  }
 ],
 "metadata": {
  "interpreter": {
   "hash": "afb734500600fd355917ca529030176ea0ca205570884b88f2f6f7d791fd3fbe"
  },
  "kernelspec": {
   "display_name": "Python 3.10.0 64-bit",
   "language": "python",
   "name": "python3"
  },
  "language_info": {
   "codemirror_mode": {
    "name": "ipython",
    "version": 3
   },
   "file_extension": ".py",
   "mimetype": "text/x-python",
   "name": "python",
   "nbconvert_exporter": "python",
   "pygments_lexer": "ipython3",
   "version": "3.10.0"
  },
  "orig_nbformat": 4
 },
 "nbformat": 4,
 "nbformat_minor": 2
}
