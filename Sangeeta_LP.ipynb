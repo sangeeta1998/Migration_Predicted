{
  "cells": [
    {
      "cell_type": "code",
      "execution_count": 31,
      "metadata": {
        "colab": {
          "base_uri": "https://localhost:8080/"
        },
        "id": "SAQ56jn6mi_3",
        "outputId": "e025b313-1851-441f-ed88-c63d97be7b8e"
      },
      "outputs": [
        {
          "output_type": "stream",
          "name": "stdout",
          "text": [
            "Drive already mounted at /content/drive; to attempt to forcibly remount, call drive.mount(\"/content/drive\", force_remount=True).\n"
          ]
        }
      ],
      "source": [
        "import pandas as pd\n",
        "from google.colab import drive\n",
        "drive.mount('/content/drive')\n",
        "df =pd.read_csv(\"drive/My Drive/Colab Notebooks/x.csv\")"
      ]
    },
    {
      "cell_type": "code",
      "execution_count": 32,
      "metadata": {
        "id": "HzfivO6tmi_z"
      },
      "outputs": [],
      "source": [
        "\n",
        "\n",
        "import sklearn\n",
        "import pandas as pd\n"
      ]
    },
    {
      "cell_type": "code",
      "execution_count": 33,
      "metadata": {
        "colab": {
          "base_uri": "https://localhost:8080/",
          "height": 441
        },
        "id": "DKxi6yyxmi_4",
        "outputId": "1e253fdb-7b6a-464b-c910-42ee0667e3c5"
      },
      "outputs": [
        {
          "output_type": "execute_result",
          "data": {
            "text/plain": [
              "   Unnamed: 0  userid   latitude  longitude  spotid  \\\n",
              "0           0       0  40.643885 -73.782806   23261   \n",
              "1           1       0  40.643885 -73.782806   23261   \n",
              "2           2       5  40.643885 -73.782806   23261   \n",
              "3           3       8  40.643885 -73.782806   23261   \n",
              "4           4      15  40.643885 -73.782806   23261   \n",
              "\n",
              "                          ts        date      time  weekday  day  hour  \\\n",
              "0  2010-10-11 20:21:28-04:00  2010-10-11  20:21:28        0   11    20   \n",
              "1  2010-10-07 11:27:40-04:00  2010-10-07  11:27:40        3    7    11   \n",
              "2  2010-08-15 23:47:20-04:00  2010-08-15  23:47:20        6   15    23   \n",
              "3  2010-10-06 16:23:14-04:00  2010-10-06  16:23:14        2    6    16   \n",
              "4  2010-10-13 00:10:36-04:00  2010-10-13  00:10:36        2   13     0   \n",
              "\n",
              "                          spotname_x                         spotname_y  \n",
              "0  JFK John F. Kennedy International  JFK John F. Kennedy International  \n",
              "1  JFK John F. Kennedy International  JFK John F. Kennedy International  \n",
              "2  JFK John F. Kennedy International  JFK John F. Kennedy International  \n",
              "3  JFK John F. Kennedy International  JFK John F. Kennedy International  \n",
              "4  JFK John F. Kennedy International  JFK John F. Kennedy International  "
            ],
            "text/html": [
              "\n",
              "  <div id=\"df-5f9b9815-05fd-4e3d-980a-e6888fb9a596\">\n",
              "    <div class=\"colab-df-container\">\n",
              "      <div>\n",
              "<style scoped>\n",
              "    .dataframe tbody tr th:only-of-type {\n",
              "        vertical-align: middle;\n",
              "    }\n",
              "\n",
              "    .dataframe tbody tr th {\n",
              "        vertical-align: top;\n",
              "    }\n",
              "\n",
              "    .dataframe thead th {\n",
              "        text-align: right;\n",
              "    }\n",
              "</style>\n",
              "<table border=\"1\" class=\"dataframe\">\n",
              "  <thead>\n",
              "    <tr style=\"text-align: right;\">\n",
              "      <th></th>\n",
              "      <th>Unnamed: 0</th>\n",
              "      <th>userid</th>\n",
              "      <th>latitude</th>\n",
              "      <th>longitude</th>\n",
              "      <th>spotid</th>\n",
              "      <th>ts</th>\n",
              "      <th>date</th>\n",
              "      <th>time</th>\n",
              "      <th>weekday</th>\n",
              "      <th>day</th>\n",
              "      <th>hour</th>\n",
              "      <th>spotname_x</th>\n",
              "      <th>spotname_y</th>\n",
              "    </tr>\n",
              "  </thead>\n",
              "  <tbody>\n",
              "    <tr>\n",
              "      <th>0</th>\n",
              "      <td>0</td>\n",
              "      <td>0</td>\n",
              "      <td>40.643885</td>\n",
              "      <td>-73.782806</td>\n",
              "      <td>23261</td>\n",
              "      <td>2010-10-11 20:21:28-04:00</td>\n",
              "      <td>2010-10-11</td>\n",
              "      <td>20:21:28</td>\n",
              "      <td>0</td>\n",
              "      <td>11</td>\n",
              "      <td>20</td>\n",
              "      <td>JFK John F. Kennedy International</td>\n",
              "      <td>JFK John F. Kennedy International</td>\n",
              "    </tr>\n",
              "    <tr>\n",
              "      <th>1</th>\n",
              "      <td>1</td>\n",
              "      <td>0</td>\n",
              "      <td>40.643885</td>\n",
              "      <td>-73.782806</td>\n",
              "      <td>23261</td>\n",
              "      <td>2010-10-07 11:27:40-04:00</td>\n",
              "      <td>2010-10-07</td>\n",
              "      <td>11:27:40</td>\n",
              "      <td>3</td>\n",
              "      <td>7</td>\n",
              "      <td>11</td>\n",
              "      <td>JFK John F. Kennedy International</td>\n",
              "      <td>JFK John F. Kennedy International</td>\n",
              "    </tr>\n",
              "    <tr>\n",
              "      <th>2</th>\n",
              "      <td>2</td>\n",
              "      <td>5</td>\n",
              "      <td>40.643885</td>\n",
              "      <td>-73.782806</td>\n",
              "      <td>23261</td>\n",
              "      <td>2010-08-15 23:47:20-04:00</td>\n",
              "      <td>2010-08-15</td>\n",
              "      <td>23:47:20</td>\n",
              "      <td>6</td>\n",
              "      <td>15</td>\n",
              "      <td>23</td>\n",
              "      <td>JFK John F. Kennedy International</td>\n",
              "      <td>JFK John F. Kennedy International</td>\n",
              "    </tr>\n",
              "    <tr>\n",
              "      <th>3</th>\n",
              "      <td>3</td>\n",
              "      <td>8</td>\n",
              "      <td>40.643885</td>\n",
              "      <td>-73.782806</td>\n",
              "      <td>23261</td>\n",
              "      <td>2010-10-06 16:23:14-04:00</td>\n",
              "      <td>2010-10-06</td>\n",
              "      <td>16:23:14</td>\n",
              "      <td>2</td>\n",
              "      <td>6</td>\n",
              "      <td>16</td>\n",
              "      <td>JFK John F. Kennedy International</td>\n",
              "      <td>JFK John F. Kennedy International</td>\n",
              "    </tr>\n",
              "    <tr>\n",
              "      <th>4</th>\n",
              "      <td>4</td>\n",
              "      <td>15</td>\n",
              "      <td>40.643885</td>\n",
              "      <td>-73.782806</td>\n",
              "      <td>23261</td>\n",
              "      <td>2010-10-13 00:10:36-04:00</td>\n",
              "      <td>2010-10-13</td>\n",
              "      <td>00:10:36</td>\n",
              "      <td>2</td>\n",
              "      <td>13</td>\n",
              "      <td>0</td>\n",
              "      <td>JFK John F. Kennedy International</td>\n",
              "      <td>JFK John F. Kennedy International</td>\n",
              "    </tr>\n",
              "  </tbody>\n",
              "</table>\n",
              "</div>\n",
              "      <button class=\"colab-df-convert\" onclick=\"convertToInteractive('df-5f9b9815-05fd-4e3d-980a-e6888fb9a596')\"\n",
              "              title=\"Convert this dataframe to an interactive table.\"\n",
              "              style=\"display:none;\">\n",
              "        \n",
              "  <svg xmlns=\"http://www.w3.org/2000/svg\" height=\"24px\"viewBox=\"0 0 24 24\"\n",
              "       width=\"24px\">\n",
              "    <path d=\"M0 0h24v24H0V0z\" fill=\"none\"/>\n",
              "    <path d=\"M18.56 5.44l.94 2.06.94-2.06 2.06-.94-2.06-.94-.94-2.06-.94 2.06-2.06.94zm-11 1L8.5 8.5l.94-2.06 2.06-.94-2.06-.94L8.5 2.5l-.94 2.06-2.06.94zm10 10l.94 2.06.94-2.06 2.06-.94-2.06-.94-.94-2.06-.94 2.06-2.06.94z\"/><path d=\"M17.41 7.96l-1.37-1.37c-.4-.4-.92-.59-1.43-.59-.52 0-1.04.2-1.43.59L10.3 9.45l-7.72 7.72c-.78.78-.78 2.05 0 2.83L4 21.41c.39.39.9.59 1.41.59.51 0 1.02-.2 1.41-.59l7.78-7.78 2.81-2.81c.8-.78.8-2.07 0-2.86zM5.41 20L4 18.59l7.72-7.72 1.47 1.35L5.41 20z\"/>\n",
              "  </svg>\n",
              "      </button>\n",
              "      \n",
              "  <style>\n",
              "    .colab-df-container {\n",
              "      display:flex;\n",
              "      flex-wrap:wrap;\n",
              "      gap: 12px;\n",
              "    }\n",
              "\n",
              "    .colab-df-convert {\n",
              "      background-color: #E8F0FE;\n",
              "      border: none;\n",
              "      border-radius: 50%;\n",
              "      cursor: pointer;\n",
              "      display: none;\n",
              "      fill: #1967D2;\n",
              "      height: 32px;\n",
              "      padding: 0 0 0 0;\n",
              "      width: 32px;\n",
              "    }\n",
              "\n",
              "    .colab-df-convert:hover {\n",
              "      background-color: #E2EBFA;\n",
              "      box-shadow: 0px 1px 2px rgba(60, 64, 67, 0.3), 0px 1px 3px 1px rgba(60, 64, 67, 0.15);\n",
              "      fill: #174EA6;\n",
              "    }\n",
              "\n",
              "    [theme=dark] .colab-df-convert {\n",
              "      background-color: #3B4455;\n",
              "      fill: #D2E3FC;\n",
              "    }\n",
              "\n",
              "    [theme=dark] .colab-df-convert:hover {\n",
              "      background-color: #434B5C;\n",
              "      box-shadow: 0px 1px 3px 1px rgba(0, 0, 0, 0.15);\n",
              "      filter: drop-shadow(0px 1px 2px rgba(0, 0, 0, 0.3));\n",
              "      fill: #FFFFFF;\n",
              "    }\n",
              "  </style>\n",
              "\n",
              "      <script>\n",
              "        const buttonEl =\n",
              "          document.querySelector('#df-5f9b9815-05fd-4e3d-980a-e6888fb9a596 button.colab-df-convert');\n",
              "        buttonEl.style.display =\n",
              "          google.colab.kernel.accessAllowed ? 'block' : 'none';\n",
              "\n",
              "        async function convertToInteractive(key) {\n",
              "          const element = document.querySelector('#df-5f9b9815-05fd-4e3d-980a-e6888fb9a596');\n",
              "          const dataTable =\n",
              "            await google.colab.kernel.invokeFunction('convertToInteractive',\n",
              "                                                     [key], {});\n",
              "          if (!dataTable) return;\n",
              "\n",
              "          const docLinkHtml = 'Like what you see? Visit the ' +\n",
              "            '<a target=\"_blank\" href=https://colab.research.google.com/notebooks/data_table.ipynb>data table notebook</a>'\n",
              "            + ' to learn more about interactive tables.';\n",
              "          element.innerHTML = '';\n",
              "          dataTable['output_type'] = 'display_data';\n",
              "          await google.colab.output.renderOutput(dataTable, element);\n",
              "          const docLink = document.createElement('div');\n",
              "          docLink.innerHTML = docLinkHtml;\n",
              "          element.appendChild(docLink);\n",
              "        }\n",
              "      </script>\n",
              "    </div>\n",
              "  </div>\n",
              "  "
            ]
          },
          "metadata": {},
          "execution_count": 33
        }
      ],
      "source": [
        "df.head()"
      ]
    },
    {
      "cell_type": "code",
      "execution_count": 34,
      "metadata": {
        "colab": {
          "base_uri": "https://localhost:8080/"
        },
        "id": "dl7rMYLTmi_6",
        "outputId": "c00aef83-4aaa-4bda-80a8-cefc4676c17b"
      },
      "outputs": [
        {
          "output_type": "execute_result",
          "data": {
            "text/plain": [
              "112390"
            ]
          },
          "metadata": {},
          "execution_count": 34
        }
      ],
      "source": [
        "len(df['spotname_x'])"
      ]
    },
    {
      "cell_type": "code",
      "execution_count": 35,
      "metadata": {
        "colab": {
          "base_uri": "https://localhost:8080/",
          "height": 815
        },
        "id": "m5veVGRsmi_7",
        "outputId": "31300dbf-a588-4a82-90aa-789780d67f26"
      },
      "outputs": [
        {
          "output_type": "execute_result",
          "data": {
            "text/plain": [
              "        userid   latitude  longitude   spotid                         ts  \\\n",
              "0            0  40.643885 -73.782806    23261  2010-10-11 20:21:28-04:00   \n",
              "1            0  40.643885 -73.782806    23261  2010-10-07 11:27:40-04:00   \n",
              "2            5  40.643885 -73.782806    23261  2010-08-15 23:47:20-04:00   \n",
              "3            8  40.643885 -73.782806    23261  2010-10-06 16:23:14-04:00   \n",
              "4           15  40.643885 -73.782806    23261  2010-10-13 00:10:36-04:00   \n",
              "...        ...        ...        ...      ...                        ...   \n",
              "112385  194967  40.823098 -74.219366   865373  2010-08-03 20:26:18-04:00   \n",
              "112386  195787  40.737428 -74.004173  1042049  2010-05-18 22:52:14-04:00   \n",
              "112387  195787  40.737428 -74.004173  1042049  2010-04-30 20:34:10-04:00   \n",
              "112388  195789  40.726720 -73.986155    16965  2010-10-20 20:04:03-04:00   \n",
              "112389  195791  40.716433 -74.005226   948876  2010-04-23 23:10:48-04:00   \n",
              "\n",
              "              date      time  weekday  day  hour  \\\n",
              "0       2010-10-11  20:21:28        0   11    20   \n",
              "1       2010-10-07  11:27:40        3    7    11   \n",
              "2       2010-08-15  23:47:20        6   15    23   \n",
              "3       2010-10-06  16:23:14        2    6    16   \n",
              "4       2010-10-13  00:10:36        2   13     0   \n",
              "...            ...       ...      ...  ...   ...   \n",
              "112385  2010-08-03  20:26:18        1    3    20   \n",
              "112386  2010-05-18  22:52:14        1   18    22   \n",
              "112387  2010-04-30  20:34:10        4   30    20   \n",
              "112388  2010-10-20  20:04:03        2   20    20   \n",
              "112389  2010-04-23  23:10:48        4   23    23   \n",
              "\n",
              "                               spotname_x                         spotname_y  \n",
              "0       JFK John F. Kennedy International  JFK John F. Kennedy International  \n",
              "1       JFK John F. Kennedy International  JFK John F. Kennedy International  \n",
              "2       JFK John F. Kennedy International  JFK John F. Kennedy International  \n",
              "3       JFK John F. Kennedy International  JFK John F. Kennedy International  \n",
              "4       JFK John F. Kennedy International  JFK John F. Kennedy International  \n",
              "...                                   ...                                ...  \n",
              "112385                         Quik Check                         Quik Check  \n",
              "112386                        Coopy's Den                        Coopy's Den  \n",
              "112387                        Coopy's Den                        Coopy's Den  \n",
              "112388                            Counter                            Counter  \n",
              "112389                                PHA                                PHA  \n",
              "\n",
              "[112390 rows x 12 columns]"
            ],
            "text/html": [
              "\n",
              "  <div id=\"df-aeea9dd3-26d5-45ba-b00c-0f776716f4c2\">\n",
              "    <div class=\"colab-df-container\">\n",
              "      <div>\n",
              "<style scoped>\n",
              "    .dataframe tbody tr th:only-of-type {\n",
              "        vertical-align: middle;\n",
              "    }\n",
              "\n",
              "    .dataframe tbody tr th {\n",
              "        vertical-align: top;\n",
              "    }\n",
              "\n",
              "    .dataframe thead th {\n",
              "        text-align: right;\n",
              "    }\n",
              "</style>\n",
              "<table border=\"1\" class=\"dataframe\">\n",
              "  <thead>\n",
              "    <tr style=\"text-align: right;\">\n",
              "      <th></th>\n",
              "      <th>userid</th>\n",
              "      <th>latitude</th>\n",
              "      <th>longitude</th>\n",
              "      <th>spotid</th>\n",
              "      <th>ts</th>\n",
              "      <th>date</th>\n",
              "      <th>time</th>\n",
              "      <th>weekday</th>\n",
              "      <th>day</th>\n",
              "      <th>hour</th>\n",
              "      <th>spotname_x</th>\n",
              "      <th>spotname_y</th>\n",
              "    </tr>\n",
              "  </thead>\n",
              "  <tbody>\n",
              "    <tr>\n",
              "      <th>0</th>\n",
              "      <td>0</td>\n",
              "      <td>40.643885</td>\n",
              "      <td>-73.782806</td>\n",
              "      <td>23261</td>\n",
              "      <td>2010-10-11 20:21:28-04:00</td>\n",
              "      <td>2010-10-11</td>\n",
              "      <td>20:21:28</td>\n",
              "      <td>0</td>\n",
              "      <td>11</td>\n",
              "      <td>20</td>\n",
              "      <td>JFK John F. Kennedy International</td>\n",
              "      <td>JFK John F. Kennedy International</td>\n",
              "    </tr>\n",
              "    <tr>\n",
              "      <th>1</th>\n",
              "      <td>0</td>\n",
              "      <td>40.643885</td>\n",
              "      <td>-73.782806</td>\n",
              "      <td>23261</td>\n",
              "      <td>2010-10-07 11:27:40-04:00</td>\n",
              "      <td>2010-10-07</td>\n",
              "      <td>11:27:40</td>\n",
              "      <td>3</td>\n",
              "      <td>7</td>\n",
              "      <td>11</td>\n",
              "      <td>JFK John F. Kennedy International</td>\n",
              "      <td>JFK John F. Kennedy International</td>\n",
              "    </tr>\n",
              "    <tr>\n",
              "      <th>2</th>\n",
              "      <td>5</td>\n",
              "      <td>40.643885</td>\n",
              "      <td>-73.782806</td>\n",
              "      <td>23261</td>\n",
              "      <td>2010-08-15 23:47:20-04:00</td>\n",
              "      <td>2010-08-15</td>\n",
              "      <td>23:47:20</td>\n",
              "      <td>6</td>\n",
              "      <td>15</td>\n",
              "      <td>23</td>\n",
              "      <td>JFK John F. Kennedy International</td>\n",
              "      <td>JFK John F. Kennedy International</td>\n",
              "    </tr>\n",
              "    <tr>\n",
              "      <th>3</th>\n",
              "      <td>8</td>\n",
              "      <td>40.643885</td>\n",
              "      <td>-73.782806</td>\n",
              "      <td>23261</td>\n",
              "      <td>2010-10-06 16:23:14-04:00</td>\n",
              "      <td>2010-10-06</td>\n",
              "      <td>16:23:14</td>\n",
              "      <td>2</td>\n",
              "      <td>6</td>\n",
              "      <td>16</td>\n",
              "      <td>JFK John F. Kennedy International</td>\n",
              "      <td>JFK John F. Kennedy International</td>\n",
              "    </tr>\n",
              "    <tr>\n",
              "      <th>4</th>\n",
              "      <td>15</td>\n",
              "      <td>40.643885</td>\n",
              "      <td>-73.782806</td>\n",
              "      <td>23261</td>\n",
              "      <td>2010-10-13 00:10:36-04:00</td>\n",
              "      <td>2010-10-13</td>\n",
              "      <td>00:10:36</td>\n",
              "      <td>2</td>\n",
              "      <td>13</td>\n",
              "      <td>0</td>\n",
              "      <td>JFK John F. Kennedy International</td>\n",
              "      <td>JFK John F. Kennedy International</td>\n",
              "    </tr>\n",
              "    <tr>\n",
              "      <th>...</th>\n",
              "      <td>...</td>\n",
              "      <td>...</td>\n",
              "      <td>...</td>\n",
              "      <td>...</td>\n",
              "      <td>...</td>\n",
              "      <td>...</td>\n",
              "      <td>...</td>\n",
              "      <td>...</td>\n",
              "      <td>...</td>\n",
              "      <td>...</td>\n",
              "      <td>...</td>\n",
              "      <td>...</td>\n",
              "    </tr>\n",
              "    <tr>\n",
              "      <th>112385</th>\n",
              "      <td>194967</td>\n",
              "      <td>40.823098</td>\n",
              "      <td>-74.219366</td>\n",
              "      <td>865373</td>\n",
              "      <td>2010-08-03 20:26:18-04:00</td>\n",
              "      <td>2010-08-03</td>\n",
              "      <td>20:26:18</td>\n",
              "      <td>1</td>\n",
              "      <td>3</td>\n",
              "      <td>20</td>\n",
              "      <td>Quik Check</td>\n",
              "      <td>Quik Check</td>\n",
              "    </tr>\n",
              "    <tr>\n",
              "      <th>112386</th>\n",
              "      <td>195787</td>\n",
              "      <td>40.737428</td>\n",
              "      <td>-74.004173</td>\n",
              "      <td>1042049</td>\n",
              "      <td>2010-05-18 22:52:14-04:00</td>\n",
              "      <td>2010-05-18</td>\n",
              "      <td>22:52:14</td>\n",
              "      <td>1</td>\n",
              "      <td>18</td>\n",
              "      <td>22</td>\n",
              "      <td>Coopy's Den</td>\n",
              "      <td>Coopy's Den</td>\n",
              "    </tr>\n",
              "    <tr>\n",
              "      <th>112387</th>\n",
              "      <td>195787</td>\n",
              "      <td>40.737428</td>\n",
              "      <td>-74.004173</td>\n",
              "      <td>1042049</td>\n",
              "      <td>2010-04-30 20:34:10-04:00</td>\n",
              "      <td>2010-04-30</td>\n",
              "      <td>20:34:10</td>\n",
              "      <td>4</td>\n",
              "      <td>30</td>\n",
              "      <td>20</td>\n",
              "      <td>Coopy's Den</td>\n",
              "      <td>Coopy's Den</td>\n",
              "    </tr>\n",
              "    <tr>\n",
              "      <th>112388</th>\n",
              "      <td>195789</td>\n",
              "      <td>40.726720</td>\n",
              "      <td>-73.986155</td>\n",
              "      <td>16965</td>\n",
              "      <td>2010-10-20 20:04:03-04:00</td>\n",
              "      <td>2010-10-20</td>\n",
              "      <td>20:04:03</td>\n",
              "      <td>2</td>\n",
              "      <td>20</td>\n",
              "      <td>20</td>\n",
              "      <td>Counter</td>\n",
              "      <td>Counter</td>\n",
              "    </tr>\n",
              "    <tr>\n",
              "      <th>112389</th>\n",
              "      <td>195791</td>\n",
              "      <td>40.716433</td>\n",
              "      <td>-74.005226</td>\n",
              "      <td>948876</td>\n",
              "      <td>2010-04-23 23:10:48-04:00</td>\n",
              "      <td>2010-04-23</td>\n",
              "      <td>23:10:48</td>\n",
              "      <td>4</td>\n",
              "      <td>23</td>\n",
              "      <td>23</td>\n",
              "      <td>PHA</td>\n",
              "      <td>PHA</td>\n",
              "    </tr>\n",
              "  </tbody>\n",
              "</table>\n",
              "<p>112390 rows × 12 columns</p>\n",
              "</div>\n",
              "      <button class=\"colab-df-convert\" onclick=\"convertToInteractive('df-aeea9dd3-26d5-45ba-b00c-0f776716f4c2')\"\n",
              "              title=\"Convert this dataframe to an interactive table.\"\n",
              "              style=\"display:none;\">\n",
              "        \n",
              "  <svg xmlns=\"http://www.w3.org/2000/svg\" height=\"24px\"viewBox=\"0 0 24 24\"\n",
              "       width=\"24px\">\n",
              "    <path d=\"M0 0h24v24H0V0z\" fill=\"none\"/>\n",
              "    <path d=\"M18.56 5.44l.94 2.06.94-2.06 2.06-.94-2.06-.94-.94-2.06-.94 2.06-2.06.94zm-11 1L8.5 8.5l.94-2.06 2.06-.94-2.06-.94L8.5 2.5l-.94 2.06-2.06.94zm10 10l.94 2.06.94-2.06 2.06-.94-2.06-.94-.94-2.06-.94 2.06-2.06.94z\"/><path d=\"M17.41 7.96l-1.37-1.37c-.4-.4-.92-.59-1.43-.59-.52 0-1.04.2-1.43.59L10.3 9.45l-7.72 7.72c-.78.78-.78 2.05 0 2.83L4 21.41c.39.39.9.59 1.41.59.51 0 1.02-.2 1.41-.59l7.78-7.78 2.81-2.81c.8-.78.8-2.07 0-2.86zM5.41 20L4 18.59l7.72-7.72 1.47 1.35L5.41 20z\"/>\n",
              "  </svg>\n",
              "      </button>\n",
              "      \n",
              "  <style>\n",
              "    .colab-df-container {\n",
              "      display:flex;\n",
              "      flex-wrap:wrap;\n",
              "      gap: 12px;\n",
              "    }\n",
              "\n",
              "    .colab-df-convert {\n",
              "      background-color: #E8F0FE;\n",
              "      border: none;\n",
              "      border-radius: 50%;\n",
              "      cursor: pointer;\n",
              "      display: none;\n",
              "      fill: #1967D2;\n",
              "      height: 32px;\n",
              "      padding: 0 0 0 0;\n",
              "      width: 32px;\n",
              "    }\n",
              "\n",
              "    .colab-df-convert:hover {\n",
              "      background-color: #E2EBFA;\n",
              "      box-shadow: 0px 1px 2px rgba(60, 64, 67, 0.3), 0px 1px 3px 1px rgba(60, 64, 67, 0.15);\n",
              "      fill: #174EA6;\n",
              "    }\n",
              "\n",
              "    [theme=dark] .colab-df-convert {\n",
              "      background-color: #3B4455;\n",
              "      fill: #D2E3FC;\n",
              "    }\n",
              "\n",
              "    [theme=dark] .colab-df-convert:hover {\n",
              "      background-color: #434B5C;\n",
              "      box-shadow: 0px 1px 3px 1px rgba(0, 0, 0, 0.15);\n",
              "      filter: drop-shadow(0px 1px 2px rgba(0, 0, 0, 0.3));\n",
              "      fill: #FFFFFF;\n",
              "    }\n",
              "  </style>\n",
              "\n",
              "      <script>\n",
              "        const buttonEl =\n",
              "          document.querySelector('#df-aeea9dd3-26d5-45ba-b00c-0f776716f4c2 button.colab-df-convert');\n",
              "        buttonEl.style.display =\n",
              "          google.colab.kernel.accessAllowed ? 'block' : 'none';\n",
              "\n",
              "        async function convertToInteractive(key) {\n",
              "          const element = document.querySelector('#df-aeea9dd3-26d5-45ba-b00c-0f776716f4c2');\n",
              "          const dataTable =\n",
              "            await google.colab.kernel.invokeFunction('convertToInteractive',\n",
              "                                                     [key], {});\n",
              "          if (!dataTable) return;\n",
              "\n",
              "          const docLinkHtml = 'Like what you see? Visit the ' +\n",
              "            '<a target=\"_blank\" href=https://colab.research.google.com/notebooks/data_table.ipynb>data table notebook</a>'\n",
              "            + ' to learn more about interactive tables.';\n",
              "          element.innerHTML = '';\n",
              "          dataTable['output_type'] = 'display_data';\n",
              "          await google.colab.output.renderOutput(dataTable, element);\n",
              "          const docLink = document.createElement('div');\n",
              "          docLink.innerHTML = docLinkHtml;\n",
              "          element.appendChild(docLink);\n",
              "        }\n",
              "      </script>\n",
              "    </div>\n",
              "  </div>\n",
              "  "
            ]
          },
          "metadata": {},
          "execution_count": 35
        }
      ],
      "source": [
        "df.drop('Unnamed: 0',axis=1)"
      ]
    },
    {
      "cell_type": "code",
      "execution_count": 36,
      "metadata": {
        "id": "XDZjZW_ami_8"
      },
      "outputs": [],
      "source": [
        "new_df = df[['latitude','longitude']]\n",
        "df1 = df[['spotid']]"
      ]
    },
    {
      "cell_type": "code",
      "execution_count": 37,
      "metadata": {
        "colab": {
          "base_uri": "https://localhost:8080/",
          "height": 206
        },
        "id": "YYm47o0Umi_9",
        "outputId": "7704b7f1-9e8e-492e-fb1e-c7ddcf791c1d"
      },
      "outputs": [
        {
          "output_type": "execute_result",
          "data": {
            "text/plain": [
              "    latitude  longitude\n",
              "0  40.643885 -73.782806\n",
              "1  40.643885 -73.782806\n",
              "2  40.643885 -73.782806\n",
              "3  40.643885 -73.782806\n",
              "4  40.643885 -73.782806"
            ],
            "text/html": [
              "\n",
              "  <div id=\"df-8ac6b873-4fcc-40fc-9cc4-50e31be5a301\">\n",
              "    <div class=\"colab-df-container\">\n",
              "      <div>\n",
              "<style scoped>\n",
              "    .dataframe tbody tr th:only-of-type {\n",
              "        vertical-align: middle;\n",
              "    }\n",
              "\n",
              "    .dataframe tbody tr th {\n",
              "        vertical-align: top;\n",
              "    }\n",
              "\n",
              "    .dataframe thead th {\n",
              "        text-align: right;\n",
              "    }\n",
              "</style>\n",
              "<table border=\"1\" class=\"dataframe\">\n",
              "  <thead>\n",
              "    <tr style=\"text-align: right;\">\n",
              "      <th></th>\n",
              "      <th>latitude</th>\n",
              "      <th>longitude</th>\n",
              "    </tr>\n",
              "  </thead>\n",
              "  <tbody>\n",
              "    <tr>\n",
              "      <th>0</th>\n",
              "      <td>40.643885</td>\n",
              "      <td>-73.782806</td>\n",
              "    </tr>\n",
              "    <tr>\n",
              "      <th>1</th>\n",
              "      <td>40.643885</td>\n",
              "      <td>-73.782806</td>\n",
              "    </tr>\n",
              "    <tr>\n",
              "      <th>2</th>\n",
              "      <td>40.643885</td>\n",
              "      <td>-73.782806</td>\n",
              "    </tr>\n",
              "    <tr>\n",
              "      <th>3</th>\n",
              "      <td>40.643885</td>\n",
              "      <td>-73.782806</td>\n",
              "    </tr>\n",
              "    <tr>\n",
              "      <th>4</th>\n",
              "      <td>40.643885</td>\n",
              "      <td>-73.782806</td>\n",
              "    </tr>\n",
              "  </tbody>\n",
              "</table>\n",
              "</div>\n",
              "      <button class=\"colab-df-convert\" onclick=\"convertToInteractive('df-8ac6b873-4fcc-40fc-9cc4-50e31be5a301')\"\n",
              "              title=\"Convert this dataframe to an interactive table.\"\n",
              "              style=\"display:none;\">\n",
              "        \n",
              "  <svg xmlns=\"http://www.w3.org/2000/svg\" height=\"24px\"viewBox=\"0 0 24 24\"\n",
              "       width=\"24px\">\n",
              "    <path d=\"M0 0h24v24H0V0z\" fill=\"none\"/>\n",
              "    <path d=\"M18.56 5.44l.94 2.06.94-2.06 2.06-.94-2.06-.94-.94-2.06-.94 2.06-2.06.94zm-11 1L8.5 8.5l.94-2.06 2.06-.94-2.06-.94L8.5 2.5l-.94 2.06-2.06.94zm10 10l.94 2.06.94-2.06 2.06-.94-2.06-.94-.94-2.06-.94 2.06-2.06.94z\"/><path d=\"M17.41 7.96l-1.37-1.37c-.4-.4-.92-.59-1.43-.59-.52 0-1.04.2-1.43.59L10.3 9.45l-7.72 7.72c-.78.78-.78 2.05 0 2.83L4 21.41c.39.39.9.59 1.41.59.51 0 1.02-.2 1.41-.59l7.78-7.78 2.81-2.81c.8-.78.8-2.07 0-2.86zM5.41 20L4 18.59l7.72-7.72 1.47 1.35L5.41 20z\"/>\n",
              "  </svg>\n",
              "      </button>\n",
              "      \n",
              "  <style>\n",
              "    .colab-df-container {\n",
              "      display:flex;\n",
              "      flex-wrap:wrap;\n",
              "      gap: 12px;\n",
              "    }\n",
              "\n",
              "    .colab-df-convert {\n",
              "      background-color: #E8F0FE;\n",
              "      border: none;\n",
              "      border-radius: 50%;\n",
              "      cursor: pointer;\n",
              "      display: none;\n",
              "      fill: #1967D2;\n",
              "      height: 32px;\n",
              "      padding: 0 0 0 0;\n",
              "      width: 32px;\n",
              "    }\n",
              "\n",
              "    .colab-df-convert:hover {\n",
              "      background-color: #E2EBFA;\n",
              "      box-shadow: 0px 1px 2px rgba(60, 64, 67, 0.3), 0px 1px 3px 1px rgba(60, 64, 67, 0.15);\n",
              "      fill: #174EA6;\n",
              "    }\n",
              "\n",
              "    [theme=dark] .colab-df-convert {\n",
              "      background-color: #3B4455;\n",
              "      fill: #D2E3FC;\n",
              "    }\n",
              "\n",
              "    [theme=dark] .colab-df-convert:hover {\n",
              "      background-color: #434B5C;\n",
              "      box-shadow: 0px 1px 3px 1px rgba(0, 0, 0, 0.15);\n",
              "      filter: drop-shadow(0px 1px 2px rgba(0, 0, 0, 0.3));\n",
              "      fill: #FFFFFF;\n",
              "    }\n",
              "  </style>\n",
              "\n",
              "      <script>\n",
              "        const buttonEl =\n",
              "          document.querySelector('#df-8ac6b873-4fcc-40fc-9cc4-50e31be5a301 button.colab-df-convert');\n",
              "        buttonEl.style.display =\n",
              "          google.colab.kernel.accessAllowed ? 'block' : 'none';\n",
              "\n",
              "        async function convertToInteractive(key) {\n",
              "          const element = document.querySelector('#df-8ac6b873-4fcc-40fc-9cc4-50e31be5a301');\n",
              "          const dataTable =\n",
              "            await google.colab.kernel.invokeFunction('convertToInteractive',\n",
              "                                                     [key], {});\n",
              "          if (!dataTable) return;\n",
              "\n",
              "          const docLinkHtml = 'Like what you see? Visit the ' +\n",
              "            '<a target=\"_blank\" href=https://colab.research.google.com/notebooks/data_table.ipynb>data table notebook</a>'\n",
              "            + ' to learn more about interactive tables.';\n",
              "          element.innerHTML = '';\n",
              "          dataTable['output_type'] = 'display_data';\n",
              "          await google.colab.output.renderOutput(dataTable, element);\n",
              "          const docLink = document.createElement('div');\n",
              "          docLink.innerHTML = docLinkHtml;\n",
              "          element.appendChild(docLink);\n",
              "        }\n",
              "      </script>\n",
              "    </div>\n",
              "  </div>\n",
              "  "
            ]
          },
          "metadata": {},
          "execution_count": 37
        }
      ],
      "source": [
        "new_df.head()"
      ]
    },
    {
      "cell_type": "code",
      "execution_count": 38,
      "metadata": {
        "id": "eL2zeVAxmi_-"
      },
      "outputs": [],
      "source": [
        "from sklearn.model_selection import train_test_split\n",
        "\n",
        "trainx, testx,trainy, testy = train_test_split(df1,new_df, test_size=0.1, random_state=42)\n",
        "\n"
      ]
    },
    {
      "cell_type": "code",
      "execution_count": 39,
      "metadata": {
        "colab": {
          "base_uri": "https://localhost:8080/"
        },
        "id": "VGn_z1m6mi_-",
        "outputId": "7898a6b8-d78f-4669-f101-fc6d404f9eef"
      },
      "outputs": [
        {
          "output_type": "execute_result",
          "data": {
            "text/plain": [
              "0.0006221440688248814"
            ]
          },
          "metadata": {},
          "execution_count": 39
        }
      ],
      "source": [
        "from sklearn.linear_model import LinearRegression\n",
        "llr = LinearRegression()\n",
        "llr.fit(trainx, trainy)\n",
        "llr.score(testx,testy)"
      ]
    },
    {
      "cell_type": "code",
      "execution_count": 40,
      "metadata": {
        "colab": {
          "base_uri": "https://localhost:8080/"
        },
        "id": "sd9bmd0MmjAA",
        "outputId": "65f0fd48-c68a-4e36-d3c1-c9cd64985be0"
      },
      "outputs": [
        {
          "output_type": "execute_result",
          "data": {
            "text/plain": [
              "DecisionTreeRegressor()"
            ]
          },
          "metadata": {},
          "execution_count": 40
        }
      ],
      "source": [
        "from sklearn.tree import DecisionTreeRegressor\n",
        "lr = DecisionTreeRegressor()\n",
        "lr.fit(trainx,trainy)"
      ]
    },
    {
      "cell_type": "code",
      "execution_count": 41,
      "metadata": {
        "colab": {
          "base_uri": "https://localhost:8080/"
        },
        "id": "QbAwCarGmjAA",
        "outputId": "ef532580-83ae-4b45-96ab-6abdca89780e"
      },
      "outputs": [
        {
          "output_type": "execute_result",
          "data": {
            "text/plain": [
              "0.8745831837290896"
            ]
          },
          "metadata": {},
          "execution_count": 41
        }
      ],
      "source": [
        "lr.score(testx,testy)"
      ]
    },
    {
      "cell_type": "code",
      "execution_count": 42,
      "metadata": {
        "colab": {
          "base_uri": "https://localhost:8080/"
        },
        "id": "l2Kp_9_EmjAB",
        "outputId": "1d510f58-9129-48a3-b74f-2fc4be9cb211"
      },
      "outputs": [
        {
          "output_type": "stream",
          "name": "stderr",
          "text": [
            "/usr/local/lib/python3.7/dist-packages/sklearn/base.py:451: UserWarning: X does not have valid feature names, but DecisionTreeRegressor was fitted with feature names\n",
            "  \"X does not have valid feature names, but\"\n"
          ]
        },
        {
          "output_type": "execute_result",
          "data": {
            "text/plain": [
              "array([[ 40.64388454, -73.7828064 ]])"
            ]
          },
          "metadata": {},
          "execution_count": 42
        }
      ],
      "source": [
        "lr.predict([[23261]])"
      ]
    },
    {
      "cell_type": "code",
      "execution_count": 43,
      "metadata": {
        "colab": {
          "base_uri": "https://localhost:8080/"
        },
        "id": "FmSlDM73mjAC",
        "outputId": "0b44f63c-9ffb-4905-dcd9-b35984de7151"
      },
      "outputs": [
        {
          "output_type": "execute_result",
          "data": {
            "text/plain": [
              "RandomForestRegressor()"
            ]
          },
          "metadata": {},
          "execution_count": 43
        }
      ],
      "source": [
        "from sklearn.ensemble import RandomForestRegressor\n",
        "kr = RandomForestRegressor()\n",
        "kr.fit(trainx,trainy)\n",
        "#kr.score(trainx,trainy)"
      ]
    },
    {
      "cell_type": "code",
      "execution_count": 44,
      "metadata": {
        "colab": {
          "base_uri": "https://localhost:8080/"
        },
        "id": "4D50iDSgmjAD",
        "outputId": "e3f23813-ff05-4aa3-9b8f-af2d21723040"
      },
      "outputs": [
        {
          "output_type": "execute_result",
          "data": {
            "text/plain": [
              "0.8790350191562006"
            ]
          },
          "metadata": {},
          "execution_count": 44
        }
      ],
      "source": [
        "kr.score(testx,testy)"
      ]
    },
    {
      "cell_type": "code",
      "execution_count": 45,
      "metadata": {
        "colab": {
          "base_uri": "https://localhost:8080/"
        },
        "id": "JW9SkaSVmjAE",
        "outputId": "e804d2b7-2d6f-401b-d20d-7be2b4cfa659"
      },
      "outputs": [
        {
          "output_type": "execute_result",
          "data": {
            "text/plain": [
              "0.7874013460305626"
            ]
          },
          "metadata": {},
          "execution_count": 45
        }
      ],
      "source": [
        "from sklearn.neighbors import KNeighborsRegressor\n",
        "kr = KNeighborsRegressor()\n",
        "kr.fit(trainx,trainy)\n",
        "kr.score(testx,testy)"
      ]
    },
    {
      "cell_type": "code",
      "execution_count": 46,
      "metadata": {
        "id": "umCBh_bdmjAE"
      },
      "outputs": [],
      "source": [
        "from sklearn import preprocessing\n",
        "label_encoder = preprocessing.LabelEncoder()\n",
        "df['spotname_x']= label_encoder.fit_transform(df['spotname_x'])"
      ]
    },
    {
      "cell_type": "code",
      "execution_count": 47,
      "metadata": {
        "colab": {
          "base_uri": "https://localhost:8080/"
        },
        "id": "8bgUijsQmjAF",
        "outputId": "dccfd8c2-7dc8-492a-d349-0a5b21ef792a"
      },
      "outputs": [
        {
          "output_type": "execute_result",
          "data": {
            "text/plain": [
              "14459"
            ]
          },
          "metadata": {},
          "execution_count": 47
        }
      ],
      "source": [
        "len(df.spotname_x.unique())"
      ]
    },
    {
      "cell_type": "code",
      "execution_count": 48,
      "metadata": {
        "colab": {
          "base_uri": "https://localhost:8080/",
          "height": 832
        },
        "id": "yeRqMsnPmjAG",
        "outputId": "aaea42b3-226b-4347-a237-5707ca46fc37"
      },
      "outputs": [
        {
          "output_type": "execute_result",
          "data": {
            "text/plain": [
              "        Unnamed: 0  userid   latitude  longitude   spotid  \\\n",
              "0                0       0  40.643885 -73.782806    23261   \n",
              "1                1       0  40.643885 -73.782806    23261   \n",
              "2                2       5  40.643885 -73.782806    23261   \n",
              "3                3       8  40.643885 -73.782806    23261   \n",
              "4                4      15  40.643885 -73.782806    23261   \n",
              "...            ...     ...        ...        ...      ...   \n",
              "112385      112385  194967  40.823098 -74.219366   865373   \n",
              "112386      112386  195787  40.737428 -74.004173  1042049   \n",
              "112387      112387  195787  40.737428 -74.004173  1042049   \n",
              "112388      112388  195789  40.726720 -73.986155    16965   \n",
              "112389      112389  195791  40.716433 -74.005226   948876   \n",
              "\n",
              "                               ts        date      time  weekday  day  hour  \\\n",
              "0       2010-10-11 20:21:28-04:00  2010-10-11  20:21:28        0   11    20   \n",
              "1       2010-10-07 11:27:40-04:00  2010-10-07  11:27:40        3    7    11   \n",
              "2       2010-08-15 23:47:20-04:00  2010-08-15  23:47:20        6   15    23   \n",
              "3       2010-10-06 16:23:14-04:00  2010-10-06  16:23:14        2    6    16   \n",
              "4       2010-10-13 00:10:36-04:00  2010-10-13  00:10:36        2   13     0   \n",
              "...                           ...         ...       ...      ...  ...   ...   \n",
              "112385  2010-08-03 20:26:18-04:00  2010-08-03  20:26:18        1    3    20   \n",
              "112386  2010-05-18 22:52:14-04:00  2010-05-18  22:52:14        1   18    22   \n",
              "112387  2010-04-30 20:34:10-04:00  2010-04-30  20:34:10        4   30    20   \n",
              "112388  2010-10-20 20:04:03-04:00  2010-10-20  20:04:03        2   20    20   \n",
              "112389  2010-04-23 23:10:48-04:00  2010-04-23  23:10:48        4   23    23   \n",
              "\n",
              "        spotname_x                         spotname_y  \n",
              "0             6301  JFK John F. Kennedy International  \n",
              "1             6301  JFK John F. Kennedy International  \n",
              "2             6301  JFK John F. Kennedy International  \n",
              "3             6301  JFK John F. Kennedy International  \n",
              "4             6301  JFK John F. Kennedy International  \n",
              "...            ...                                ...  \n",
              "112385       10296                         Quik Check  \n",
              "112386        3418                        Coopy's Den  \n",
              "112387        3418                        Coopy's Den  \n",
              "112388        3473                            Counter  \n",
              "112389        9406                                PHA  \n",
              "\n",
              "[112390 rows x 13 columns]"
            ],
            "text/html": [
              "\n",
              "  <div id=\"df-72bcc98c-091d-44ee-98c0-831636c63bc2\">\n",
              "    <div class=\"colab-df-container\">\n",
              "      <div>\n",
              "<style scoped>\n",
              "    .dataframe tbody tr th:only-of-type {\n",
              "        vertical-align: middle;\n",
              "    }\n",
              "\n",
              "    .dataframe tbody tr th {\n",
              "        vertical-align: top;\n",
              "    }\n",
              "\n",
              "    .dataframe thead th {\n",
              "        text-align: right;\n",
              "    }\n",
              "</style>\n",
              "<table border=\"1\" class=\"dataframe\">\n",
              "  <thead>\n",
              "    <tr style=\"text-align: right;\">\n",
              "      <th></th>\n",
              "      <th>Unnamed: 0</th>\n",
              "      <th>userid</th>\n",
              "      <th>latitude</th>\n",
              "      <th>longitude</th>\n",
              "      <th>spotid</th>\n",
              "      <th>ts</th>\n",
              "      <th>date</th>\n",
              "      <th>time</th>\n",
              "      <th>weekday</th>\n",
              "      <th>day</th>\n",
              "      <th>hour</th>\n",
              "      <th>spotname_x</th>\n",
              "      <th>spotname_y</th>\n",
              "    </tr>\n",
              "  </thead>\n",
              "  <tbody>\n",
              "    <tr>\n",
              "      <th>0</th>\n",
              "      <td>0</td>\n",
              "      <td>0</td>\n",
              "      <td>40.643885</td>\n",
              "      <td>-73.782806</td>\n",
              "      <td>23261</td>\n",
              "      <td>2010-10-11 20:21:28-04:00</td>\n",
              "      <td>2010-10-11</td>\n",
              "      <td>20:21:28</td>\n",
              "      <td>0</td>\n",
              "      <td>11</td>\n",
              "      <td>20</td>\n",
              "      <td>6301</td>\n",
              "      <td>JFK John F. Kennedy International</td>\n",
              "    </tr>\n",
              "    <tr>\n",
              "      <th>1</th>\n",
              "      <td>1</td>\n",
              "      <td>0</td>\n",
              "      <td>40.643885</td>\n",
              "      <td>-73.782806</td>\n",
              "      <td>23261</td>\n",
              "      <td>2010-10-07 11:27:40-04:00</td>\n",
              "      <td>2010-10-07</td>\n",
              "      <td>11:27:40</td>\n",
              "      <td>3</td>\n",
              "      <td>7</td>\n",
              "      <td>11</td>\n",
              "      <td>6301</td>\n",
              "      <td>JFK John F. Kennedy International</td>\n",
              "    </tr>\n",
              "    <tr>\n",
              "      <th>2</th>\n",
              "      <td>2</td>\n",
              "      <td>5</td>\n",
              "      <td>40.643885</td>\n",
              "      <td>-73.782806</td>\n",
              "      <td>23261</td>\n",
              "      <td>2010-08-15 23:47:20-04:00</td>\n",
              "      <td>2010-08-15</td>\n",
              "      <td>23:47:20</td>\n",
              "      <td>6</td>\n",
              "      <td>15</td>\n",
              "      <td>23</td>\n",
              "      <td>6301</td>\n",
              "      <td>JFK John F. Kennedy International</td>\n",
              "    </tr>\n",
              "    <tr>\n",
              "      <th>3</th>\n",
              "      <td>3</td>\n",
              "      <td>8</td>\n",
              "      <td>40.643885</td>\n",
              "      <td>-73.782806</td>\n",
              "      <td>23261</td>\n",
              "      <td>2010-10-06 16:23:14-04:00</td>\n",
              "      <td>2010-10-06</td>\n",
              "      <td>16:23:14</td>\n",
              "      <td>2</td>\n",
              "      <td>6</td>\n",
              "      <td>16</td>\n",
              "      <td>6301</td>\n",
              "      <td>JFK John F. Kennedy International</td>\n",
              "    </tr>\n",
              "    <tr>\n",
              "      <th>4</th>\n",
              "      <td>4</td>\n",
              "      <td>15</td>\n",
              "      <td>40.643885</td>\n",
              "      <td>-73.782806</td>\n",
              "      <td>23261</td>\n",
              "      <td>2010-10-13 00:10:36-04:00</td>\n",
              "      <td>2010-10-13</td>\n",
              "      <td>00:10:36</td>\n",
              "      <td>2</td>\n",
              "      <td>13</td>\n",
              "      <td>0</td>\n",
              "      <td>6301</td>\n",
              "      <td>JFK John F. Kennedy International</td>\n",
              "    </tr>\n",
              "    <tr>\n",
              "      <th>...</th>\n",
              "      <td>...</td>\n",
              "      <td>...</td>\n",
              "      <td>...</td>\n",
              "      <td>...</td>\n",
              "      <td>...</td>\n",
              "      <td>...</td>\n",
              "      <td>...</td>\n",
              "      <td>...</td>\n",
              "      <td>...</td>\n",
              "      <td>...</td>\n",
              "      <td>...</td>\n",
              "      <td>...</td>\n",
              "      <td>...</td>\n",
              "    </tr>\n",
              "    <tr>\n",
              "      <th>112385</th>\n",
              "      <td>112385</td>\n",
              "      <td>194967</td>\n",
              "      <td>40.823098</td>\n",
              "      <td>-74.219366</td>\n",
              "      <td>865373</td>\n",
              "      <td>2010-08-03 20:26:18-04:00</td>\n",
              "      <td>2010-08-03</td>\n",
              "      <td>20:26:18</td>\n",
              "      <td>1</td>\n",
              "      <td>3</td>\n",
              "      <td>20</td>\n",
              "      <td>10296</td>\n",
              "      <td>Quik Check</td>\n",
              "    </tr>\n",
              "    <tr>\n",
              "      <th>112386</th>\n",
              "      <td>112386</td>\n",
              "      <td>195787</td>\n",
              "      <td>40.737428</td>\n",
              "      <td>-74.004173</td>\n",
              "      <td>1042049</td>\n",
              "      <td>2010-05-18 22:52:14-04:00</td>\n",
              "      <td>2010-05-18</td>\n",
              "      <td>22:52:14</td>\n",
              "      <td>1</td>\n",
              "      <td>18</td>\n",
              "      <td>22</td>\n",
              "      <td>3418</td>\n",
              "      <td>Coopy's Den</td>\n",
              "    </tr>\n",
              "    <tr>\n",
              "      <th>112387</th>\n",
              "      <td>112387</td>\n",
              "      <td>195787</td>\n",
              "      <td>40.737428</td>\n",
              "      <td>-74.004173</td>\n",
              "      <td>1042049</td>\n",
              "      <td>2010-04-30 20:34:10-04:00</td>\n",
              "      <td>2010-04-30</td>\n",
              "      <td>20:34:10</td>\n",
              "      <td>4</td>\n",
              "      <td>30</td>\n",
              "      <td>20</td>\n",
              "      <td>3418</td>\n",
              "      <td>Coopy's Den</td>\n",
              "    </tr>\n",
              "    <tr>\n",
              "      <th>112388</th>\n",
              "      <td>112388</td>\n",
              "      <td>195789</td>\n",
              "      <td>40.726720</td>\n",
              "      <td>-73.986155</td>\n",
              "      <td>16965</td>\n",
              "      <td>2010-10-20 20:04:03-04:00</td>\n",
              "      <td>2010-10-20</td>\n",
              "      <td>20:04:03</td>\n",
              "      <td>2</td>\n",
              "      <td>20</td>\n",
              "      <td>20</td>\n",
              "      <td>3473</td>\n",
              "      <td>Counter</td>\n",
              "    </tr>\n",
              "    <tr>\n",
              "      <th>112389</th>\n",
              "      <td>112389</td>\n",
              "      <td>195791</td>\n",
              "      <td>40.716433</td>\n",
              "      <td>-74.005226</td>\n",
              "      <td>948876</td>\n",
              "      <td>2010-04-23 23:10:48-04:00</td>\n",
              "      <td>2010-04-23</td>\n",
              "      <td>23:10:48</td>\n",
              "      <td>4</td>\n",
              "      <td>23</td>\n",
              "      <td>23</td>\n",
              "      <td>9406</td>\n",
              "      <td>PHA</td>\n",
              "    </tr>\n",
              "  </tbody>\n",
              "</table>\n",
              "<p>112390 rows × 13 columns</p>\n",
              "</div>\n",
              "      <button class=\"colab-df-convert\" onclick=\"convertToInteractive('df-72bcc98c-091d-44ee-98c0-831636c63bc2')\"\n",
              "              title=\"Convert this dataframe to an interactive table.\"\n",
              "              style=\"display:none;\">\n",
              "        \n",
              "  <svg xmlns=\"http://www.w3.org/2000/svg\" height=\"24px\"viewBox=\"0 0 24 24\"\n",
              "       width=\"24px\">\n",
              "    <path d=\"M0 0h24v24H0V0z\" fill=\"none\"/>\n",
              "    <path d=\"M18.56 5.44l.94 2.06.94-2.06 2.06-.94-2.06-.94-.94-2.06-.94 2.06-2.06.94zm-11 1L8.5 8.5l.94-2.06 2.06-.94-2.06-.94L8.5 2.5l-.94 2.06-2.06.94zm10 10l.94 2.06.94-2.06 2.06-.94-2.06-.94-.94-2.06-.94 2.06-2.06.94z\"/><path d=\"M17.41 7.96l-1.37-1.37c-.4-.4-.92-.59-1.43-.59-.52 0-1.04.2-1.43.59L10.3 9.45l-7.72 7.72c-.78.78-.78 2.05 0 2.83L4 21.41c.39.39.9.59 1.41.59.51 0 1.02-.2 1.41-.59l7.78-7.78 2.81-2.81c.8-.78.8-2.07 0-2.86zM5.41 20L4 18.59l7.72-7.72 1.47 1.35L5.41 20z\"/>\n",
              "  </svg>\n",
              "      </button>\n",
              "      \n",
              "  <style>\n",
              "    .colab-df-container {\n",
              "      display:flex;\n",
              "      flex-wrap:wrap;\n",
              "      gap: 12px;\n",
              "    }\n",
              "\n",
              "    .colab-df-convert {\n",
              "      background-color: #E8F0FE;\n",
              "      border: none;\n",
              "      border-radius: 50%;\n",
              "      cursor: pointer;\n",
              "      display: none;\n",
              "      fill: #1967D2;\n",
              "      height: 32px;\n",
              "      padding: 0 0 0 0;\n",
              "      width: 32px;\n",
              "    }\n",
              "\n",
              "    .colab-df-convert:hover {\n",
              "      background-color: #E2EBFA;\n",
              "      box-shadow: 0px 1px 2px rgba(60, 64, 67, 0.3), 0px 1px 3px 1px rgba(60, 64, 67, 0.15);\n",
              "      fill: #174EA6;\n",
              "    }\n",
              "\n",
              "    [theme=dark] .colab-df-convert {\n",
              "      background-color: #3B4455;\n",
              "      fill: #D2E3FC;\n",
              "    }\n",
              "\n",
              "    [theme=dark] .colab-df-convert:hover {\n",
              "      background-color: #434B5C;\n",
              "      box-shadow: 0px 1px 3px 1px rgba(0, 0, 0, 0.15);\n",
              "      filter: drop-shadow(0px 1px 2px rgba(0, 0, 0, 0.3));\n",
              "      fill: #FFFFFF;\n",
              "    }\n",
              "  </style>\n",
              "\n",
              "      <script>\n",
              "        const buttonEl =\n",
              "          document.querySelector('#df-72bcc98c-091d-44ee-98c0-831636c63bc2 button.colab-df-convert');\n",
              "        buttonEl.style.display =\n",
              "          google.colab.kernel.accessAllowed ? 'block' : 'none';\n",
              "\n",
              "        async function convertToInteractive(key) {\n",
              "          const element = document.querySelector('#df-72bcc98c-091d-44ee-98c0-831636c63bc2');\n",
              "          const dataTable =\n",
              "            await google.colab.kernel.invokeFunction('convertToInteractive',\n",
              "                                                     [key], {});\n",
              "          if (!dataTable) return;\n",
              "\n",
              "          const docLinkHtml = 'Like what you see? Visit the ' +\n",
              "            '<a target=\"_blank\" href=https://colab.research.google.com/notebooks/data_table.ipynb>data table notebook</a>'\n",
              "            + ' to learn more about interactive tables.';\n",
              "          element.innerHTML = '';\n",
              "          dataTable['output_type'] = 'display_data';\n",
              "          await google.colab.output.renderOutput(dataTable, element);\n",
              "          const docLink = document.createElement('div');\n",
              "          docLink.innerHTML = docLinkHtml;\n",
              "          element.appendChild(docLink);\n",
              "        }\n",
              "      </script>\n",
              "    </div>\n",
              "  </div>\n",
              "  "
            ]
          },
          "metadata": {},
          "execution_count": 48
        }
      ],
      "source": [
        "df"
      ]
    },
    {
      "cell_type": "code",
      "execution_count": 49,
      "metadata": {
        "id": "DPMBm-pTmjAH"
      },
      "outputs": [],
      "source": [
        "df2 = df[['latitude','longitude']]\n",
        "df3 = df1 = df[['spotid','spotname_x']]"
      ]
    },
    {
      "cell_type": "code",
      "execution_count": 50,
      "metadata": {
        "id": "nXtU07dGmjAH"
      },
      "outputs": [],
      "source": [
        "from sklearn.model_selection import train_test_split\n",
        "\n",
        "xtrain, xtest,ytrain, ytest = train_test_split(df1,new_df, test_size=0.1, random_state=42)\n"
      ]
    },
    {
      "cell_type": "code",
      "execution_count": 51,
      "metadata": {
        "colab": {
          "base_uri": "https://localhost:8080/"
        },
        "id": "PNPdwfLfmjAJ",
        "outputId": "867b39b8-fafd-4997-e0bb-0dbc1df83ca0"
      },
      "outputs": [
        {
          "output_type": "execute_result",
          "data": {
            "text/plain": [
              "0.0007809125592141419"
            ]
          },
          "metadata": {},
          "execution_count": 51
        }
      ],
      "source": [
        "from sklearn.linear_model import LinearRegression\n",
        "llr = LinearRegression()\n",
        "llr.fit(xtrain, ytrain)\n",
        "llr.score(xtest,ytest)"
      ]
    },
    {
      "cell_type": "code",
      "execution_count": 52,
      "metadata": {
        "colab": {
          "base_uri": "https://localhost:8080/"
        },
        "id": "p0aULlxomjAK",
        "outputId": "17cc7c71-ff82-4f08-fe4f-19fc1891168d"
      },
      "outputs": [
        {
          "output_type": "execute_result",
          "data": {
            "text/plain": [
              "0.8677691339995275"
            ]
          },
          "metadata": {},
          "execution_count": 52
        }
      ],
      "source": [
        "from sklearn.tree import DecisionTreeRegressor\n",
        "lr = DecisionTreeRegressor()\n",
        "lr.fit(xtrain,ytrain)\n",
        "lr.score(xtest,ytest)"
      ]
    },
    {
      "cell_type": "code",
      "execution_count": 53,
      "metadata": {
        "colab": {
          "base_uri": "https://localhost:8080/"
        },
        "id": "_lqe4FhemjAK",
        "outputId": "b4a052b6-4cfc-442b-da6f-da11f05d34e7"
      },
      "outputs": [
        {
          "output_type": "execute_result",
          "data": {
            "text/plain": [
              "0.905480213948169"
            ]
          },
          "metadata": {},
          "execution_count": 53
        }
      ],
      "source": [
        "from sklearn.ensemble import RandomForestRegressor\n",
        "kr = RandomForestRegressor()\n",
        "kr.fit(xtrain,ytrain)\n",
        "kr.score(xtest,ytest)"
      ]
    },
    {
      "cell_type": "code",
      "execution_count": 54,
      "metadata": {
        "colab": {
          "base_uri": "https://localhost:8080/"
        },
        "id": "eKrhwjfGmjAL",
        "outputId": "3775b034-02b6-4d95-fbf1-4f46b35435d9"
      },
      "outputs": [
        {
          "output_type": "execute_result",
          "data": {
            "text/plain": [
              "0.7717606471614109"
            ]
          },
          "metadata": {},
          "execution_count": 54
        }
      ],
      "source": [
        "from sklearn.neighbors import KNeighborsRegressor\n",
        "kr = KNeighborsRegressor()\n",
        "kr.fit(xtrain,ytrain)\n",
        "kr.score(xtest,ytest)"
      ]
    },
    {
      "cell_type": "code",
      "execution_count": 55,
      "metadata": {
        "colab": {
          "base_uri": "https://localhost:8080/",
          "height": 283
        },
        "id": "pce1DDKFmjAM",
        "outputId": "eee84ae2-5a2e-4e86-9674-bfa5da36c085"
      },
      "outputs": [
        {
          "output_type": "execute_result",
          "data": {
            "text/plain": [
              "<matplotlib.collections.PathCollection at 0x7fb0f324b2d0>"
            ]
          },
          "metadata": {},
          "execution_count": 55
        },
        {
          "output_type": "display_data",
          "data": {
            "text/plain": [
              "<Figure size 432x288 with 1 Axes>"
            ],
            "image/png": "[encoded data removed]"
          },
          "metadata": {
            "needs_background": "light"
          }
        }
      ],
      "source": [
        "import matplotlib.pyplot as plt\n",
        "plt.scatter(df.latitude, df.longitude)"
      ]
    },
    {
      "cell_type": "code",
      "execution_count": 55,
      "metadata": {
        "id": "B_r1p370mjAM"
      },
      "outputs": [],
      "source": [
        ""
      ]
    },
    {
      "cell_type": "code",
      "execution_count": 55,
      "metadata": {
        "id": "WFJZ29owmjAN"
      },
      "outputs": [],
      "source": [
        ""
      ]
    }
  ],
  "metadata": {
    "interpreter": {
      "hash": "afb734500600fd355917ca529030176ea0ca205570884b88f2f6f7d791fd3fbe"
    },
    "kernelspec": {
      "display_name": "Python 3.10.0 64-bit",
      "language": "python",
      "name": "python3"
    },
    "language_info": {
      "codemirror_mode": {
        "name": "ipython",
        "version": 3
      },
      "file_extension": ".py",
      "mimetype": "text/x-python",
      "name": "python",
      "nbconvert_exporter": "python",
      "pygments_lexer": "ipython3",
      "version": "3.10.0"
    },
    "orig_nbformat": 4,
    "colab": {
      "name": "review.ipynb",
      "provenance": [],
      "collapsed_sections": []
    }
  },
  "nbformat": 4,
  "nbformat_minor": 0
}